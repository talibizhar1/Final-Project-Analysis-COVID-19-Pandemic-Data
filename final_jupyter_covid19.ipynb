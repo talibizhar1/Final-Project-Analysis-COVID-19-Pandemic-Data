{
 "cells": [
  {
   "cell_type": "markdown",
   "metadata": {},
   "source": [
    "<center>\n",
    "<img src=\"https://cf-courses-data.s3.us.cloud-object-storage.appdomain.cloud/IBMDeveloperSkillsNetwork-RP0101EN-Coursera/v2/M5_Final/images/SN_web_lightmode.png\" width=\"300\">\n",
    "</center>\n"
   ]
  },
  {
   "cell_type": "markdown",
   "metadata": {},
   "source": [
    "<h1>Analysis of Global COVID-19 Pandemic Data</h1>\n",
    "\n",
    "Estimated time needed: **90** minutes\n",
    "\n"
   ]
  },
  {
   "cell_type": "markdown",
   "metadata": {
    "tags": []
   },
   "source": [
    "## Introduction\n",
    "\n",
    "This project is part of Introduction to R Programming for Data Science(https://www.coursera.org/learn/introducton-r-programming-data-science/)\n",
    "\n",
    "## Overview:\n",
    "\n",
    "There are 10 tasks in this final project. All tasks will be graded by your peers who are also completing this assignment within the same session.\n",
    "\n",
    "You need to submit the following the screenshot for the code and output for each task for review.\n",
    "\n",
    "If you need to refresh your memories about specific coding details, you may refer to previous hands-on labs for code examples.\n"
   ]
  },
  {
   "cell_type": "code",
   "execution_count": 1,
   "metadata": {},
   "outputs": [],
   "source": [
    "# If you are working on your local Jupyter notebook, please uncomment the below code and install the packages\n",
    "\n",
    "#install.packages(\"httr\")\n",
    "#install.packages(\"rvest\")"
   ]
  },
  {
   "cell_type": "code",
   "execution_count": 2,
   "metadata": {
    "tags": []
   },
   "outputs": [
    {
     "name": "stderr",
     "output_type": "stream",
     "text": [
      "Loading required package: xml2\n"
     ]
    }
   ],
   "source": [
    "#require(\"httr\")\n",
    "#require(\"rvest\")\n",
    "\n",
    "library(httr)\n",
    "library(rvest)"
   ]
  },
  {
   "cell_type": "markdown",
   "metadata": {},
   "source": [
    "Note: if you can import above libraries, please use install.packages() to install them first.\n"
   ]
  },
  {
   "cell_type": "markdown",
   "metadata": {},
   "source": [
    "## TASK 1: Get a `COVID-19 pandemic` Wiki page using HTTP request\n"
   ]
  },
  {
   "cell_type": "markdown",
   "metadata": {},
   "source": [
    "First, let's write a function to use HTTP request to get a public COVID-19 Wiki page.\n",
    "\n",
    "Before you write the function, you can open this public page from this \n",
    "\n",
    "URL https://en.wikipedia.org/w/index.php?title=Template:COVID-19_testing_by_country using a web browser.\n",
    "\n",
    "The goal of task 1 is to get the html page using HTTP request (`httr` library)\n"
   ]
  },
  {
   "cell_type": "code",
   "execution_count": 3,
   "metadata": {
    "tags": []
   },
   "outputs": [],
   "source": [
    "\n",
    "get_wiki_covid19_page <- function() {\n",
    "    \n",
    "  # Our target COVID-19 wiki page URL is: https://en.wikipedia.org/w/index.php?title=Template:COVID-19_testing_by_country  \n",
    "  # Which has two parts: \n",
    "    # 1) base URL `https://en.wikipedia.org/w/index.php  \n",
    "    # 2) URL parameter: `title=Template:COVID-19_testing_by_country`, seperated by question mark ?\n",
    "    \n",
    "  # Wiki page base\n",
    "  wiki_base_url <- \"https://en.wikipedia.org/w/index.php\"\n",
    "  # You will need to create a List which has an element called `title` to specify which page you want to get from Wiki\n",
    "  # in our case, it will be `Template:COVID-19_testing_by_country`\n",
    "url_parameter <- list(title = \"Template:COVID-19_testing_by_country\")\n",
    "  # - Use the `GET` function in httr library with a `url` argument and a `query` argument to get a HTTP response\n",
    "  response <- GET(wiki_base_url, query = url_parameter)\n",
    "  # Use the `return` function to return the response\n",
    "  return(response)\n",
    "}"
   ]
  },
  {
   "cell_type": "markdown",
   "metadata": {},
   "source": [
    "Call the `get_wiki_covid19_page` function to get a http response with the target html page\n"
   ]
  },
  {
   "cell_type": "code",
   "execution_count": 4,
   "metadata": {
    "tags": []
   },
   "outputs": [
    {
     "data": {
      "text/plain": [
       "Response [https://en.wikipedia.org/w/index.php?title=Template%3ACOVID-19_testing_by_country]\n",
       "  Date: 2023-06-10 06:29\n",
       "  Status: 200\n",
       "  Content-Type: text/html; charset=UTF-8\n",
       "  Size: 432 kB\n",
       "<!DOCTYPE html>\n",
       "<html class=\"client-nojs vector-feature-language-in-header-enabled vector-fea...\n",
       "<head>\n",
       "<meta charset=\"UTF-8\">\n",
       "<title>Template:COVID-19 testing by country - Wikipedia</title>\n",
       "<script>document.documentElement.className=\"client-js vector-feature-language...\n",
       "\"wgCanonicalNamespace\":\"Template\",\"wgCanonicalSpecialPageName\":false,\"wgNames...\n",
       "\"CS1 Khmer-language sources (km)\",\"CS1 uses Chinese-language script (zh)\",\"CS...\n",
       "\"CS1 foreign language sources (ISO 639-2)\",\"CS1 Burmese-language sources (my)...\n",
       "},\"wgVisualEditor\":{\"pageLanguageCode\":\"en\",\"pageLanguageDir\":\"ltr\",\"pageVari...\n",
       "..."
      ]
     },
     "metadata": {},
     "output_type": "display_data"
    }
   ],
   "source": [
    "# Call the get_wiki_covid19_page function and print the response\n",
    "get_wiki_covid19_page()"
   ]
  },
  {
   "cell_type": "markdown",
   "metadata": {},
   "source": [
    "## TASK 2: Extract COVID-19 testing data table from the wiki HTML page\n"
   ]
  },
  {
   "cell_type": "markdown",
   "metadata": {},
   "source": [
    "On the COVID-19 testing wiki page, you should see a data table `<table>` node contains COVID-19 testing data by country on the page:\n",
    "\n",
    "<a href=\"https://cognitiveclass.ai/?utm_medium=Exinfluencer&utm_source=Exinfluencer&utm_content=000026UJ&utm_term=10006555&utm_id=NA-SkillsNetwork-Channel-SkillsNetworkCoursesIBMDeveloperSkillsNetworkRP0101ENCoursera889-2023-01-01\">\n",
    "    <img src=\"https://cf-courses-data.s3.us.cloud-object-storage.appdomain.cloud/IBMDeveloperSkillsNetwork-RP0101EN-Coursera/v2/M5_Final/images/covid-19-by-country.png\" width=\"400\" align=\"center\">\n",
    "</a>\n",
    "\n",
    "Note the numbers you actually see on your page may be different from above because it is still an on-going pandemic when creating this notebook.\n",
    "\n",
    "The goal of task 2 is to extract above data table and convert it into a data frame\n"
   ]
  },
  {
   "cell_type": "markdown",
   "metadata": {},
   "source": [
    "Now use the `read_html` function in rvest library to get the root html node from response\n"
   ]
  },
  {
   "cell_type": "code",
   "execution_count": 5,
   "metadata": {
    "tags": []
   },
   "outputs": [
    {
     "data": {
      "text/plain": [
       "{html_document}\n",
       "<html class=\"client-nojs vector-feature-language-in-header-enabled vector-feature-language-in-main-page-header-disabled vector-feature-sticky-header-disabled vector-feature-page-tools-pinned-disabled vector-feature-toc-pinned-enabled vector-feature-main-menu-pinned-disabled vector-feature-limited-width-enabled vector-feature-limited-width-content-enabled vector-feature-zebra-design-disabled\" lang=\"en\" dir=\"ltr\">\n",
       "[1] <head>\\n<meta http-equiv=\"Content-Type\" content=\"text/html; charset=UTF-8 ...\n",
       "[2] <body class=\"skin-vector skin-vector-search-vue mediawiki ltr sitedir-ltr ..."
      ]
     },
     "metadata": {},
     "output_type": "display_data"
    }
   ],
   "source": [
    "# Get the root html node from the http response in task 1\n",
    "wiki_node <- read_html(get_wiki_covid19_page())\n",
    "wiki_node"
   ]
  },
  {
   "cell_type": "markdown",
   "metadata": {},
   "source": [
    "Get the tables in the HTML root node using `html_nodes` function.\n"
   ]
  },
  {
   "cell_type": "code",
   "execution_count": 6,
   "metadata": {
    "tags": []
   },
   "outputs": [
    {
     "data": {
      "text/plain": [
       "{xml_nodeset (4)}\n",
       "[1] <table class=\"box-Update plainlinks ombox ombox-content ambox-Update\" rol ...\n",
       "[2] <table class=\"wikitable plainrowheaders sortable collapsible autocollapse ...\n",
       "[3] <table class=\"plainlinks ombox mbox-small ombox-notice\" role=\"presentatio ...\n",
       "[4] <table class=\"wikitable mw-templatedata-doc-params\">\\n<caption>\\n<span cl ..."
      ]
     },
     "metadata": {},
     "output_type": "display_data"
    }
   ],
   "source": [
    "# Get the table node from the root html node\n",
    "table_node <- html_nodes(wiki_node, \"table\")\n",
    "table_node"
   ]
  },
  {
   "cell_type": "markdown",
   "metadata": {},
   "source": [
    "Read the specific table from the multiple tables in the `table_node` using the `html_table` function and convert it into dataframe using `as.data.frame`\n",
    "\n",
    "_Hint:- Please read the `table_node` with index 2(ex:- table_node[2])._\n"
   ]
  },
  {
   "cell_type": "code",
   "execution_count": 7,
   "metadata": {
    "tags": []
   },
   "outputs": [
    {
     "data": {
      "text/html": [
       "<table>\n",
       "<caption>A data.frame: 6 × 9</caption>\n",
       "<thead>\n",
       "\t<tr><th></th><th scope=col>Country.or.region</th><th scope=col>Date.a.</th><th scope=col>Tested</th><th scope=col>Units.b.</th><th scope=col>Confirmed.cases.</th><th scope=col>Confirmed..tested..</th><th scope=col>Tested..population..</th><th scope=col>Confirmed..population..</th><th scope=col>Ref.</th></tr>\n",
       "\t<tr><th></th><th scope=col>&lt;chr&gt;</th><th scope=col>&lt;chr&gt;</th><th scope=col>&lt;chr&gt;</th><th scope=col>&lt;chr&gt;</th><th scope=col>&lt;chr&gt;</th><th scope=col>&lt;chr&gt;</th><th scope=col>&lt;chr&gt;</th><th scope=col>&lt;chr&gt;</th><th scope=col>&lt;chr&gt;</th></tr>\n",
       "</thead>\n",
       "<tbody>\n",
       "\t<tr><th scope=row>1</th><td>Afghanistan        </td><td>17 Dec 2020</td><td>154,767</td><td>samples</td><td>49,621</td><td>32.1</td><td>0.40</td><td>0.13 </td><td>[1]   </td></tr>\n",
       "\t<tr><th scope=row>2</th><td>Albania            </td><td>18 Feb 2021</td><td>428,654</td><td>samples</td><td>96,838</td><td>22.6</td><td>15.0</td><td>3.4  </td><td>[2]   </td></tr>\n",
       "\t<tr><th scope=row>3</th><td>Algeria            </td><td>2 Nov 2020 </td><td>230,553</td><td>samples</td><td>58,574</td><td>25.4</td><td>0.53</td><td>0.13 </td><td>[3][4]</td></tr>\n",
       "\t<tr><th scope=row>4</th><td>Andorra            </td><td>23 Feb 2022</td><td>300,307</td><td>samples</td><td>37,958</td><td>12.6</td><td>387 </td><td>49.0 </td><td>[5]   </td></tr>\n",
       "\t<tr><th scope=row>5</th><td>Angola             </td><td>2 Feb 2021 </td><td>399,228</td><td>samples</td><td>20,981</td><td>5.3 </td><td>1.3 </td><td>0.067</td><td>[6]   </td></tr>\n",
       "\t<tr><th scope=row>6</th><td>Antigua and Barbuda</td><td>6 Mar 2021 </td><td>15,268 </td><td>samples</td><td>832   </td><td>5.4 </td><td>15.9</td><td>0.86 </td><td>[7]   </td></tr>\n",
       "</tbody>\n",
       "</table>\n"
      ],
      "text/latex": [
       "A data.frame: 6 × 9\n",
       "\\begin{tabular}{r|lllllllll}\n",
       "  & Country.or.region & Date.a. & Tested & Units.b. & Confirmed.cases. & Confirmed..tested.. & Tested..population.. & Confirmed..population.. & Ref.\\\\\n",
       "  & <chr> & <chr> & <chr> & <chr> & <chr> & <chr> & <chr> & <chr> & <chr>\\\\\n",
       "\\hline\n",
       "\t1 & Afghanistan         & 17 Dec 2020 & 154,767 & samples & 49,621 & 32.1 & 0.40 & 0.13  & {[}1{]}   \\\\\n",
       "\t2 & Albania             & 18 Feb 2021 & 428,654 & samples & 96,838 & 22.6 & 15.0 & 3.4   & {[}2{]}   \\\\\n",
       "\t3 & Algeria             & 2 Nov 2020  & 230,553 & samples & 58,574 & 25.4 & 0.53 & 0.13  & {[}3{]}{[}4{]}\\\\\n",
       "\t4 & Andorra             & 23 Feb 2022 & 300,307 & samples & 37,958 & 12.6 & 387  & 49.0  & {[}5{]}   \\\\\n",
       "\t5 & Angola              & 2 Feb 2021  & 399,228 & samples & 20,981 & 5.3  & 1.3  & 0.067 & {[}6{]}   \\\\\n",
       "\t6 & Antigua and Barbuda & 6 Mar 2021  & 15,268  & samples & 832    & 5.4  & 15.9 & 0.86  & {[}7{]}   \\\\\n",
       "\\end{tabular}\n"
      ],
      "text/markdown": [
       "\n",
       "A data.frame: 6 × 9\n",
       "\n",
       "| <!--/--> | Country.or.region &lt;chr&gt; | Date.a. &lt;chr&gt; | Tested &lt;chr&gt; | Units.b. &lt;chr&gt; | Confirmed.cases. &lt;chr&gt; | Confirmed..tested.. &lt;chr&gt; | Tested..population.. &lt;chr&gt; | Confirmed..population.. &lt;chr&gt; | Ref. &lt;chr&gt; |\n",
       "|---|---|---|---|---|---|---|---|---|---|\n",
       "| 1 | Afghanistan         | 17 Dec 2020 | 154,767 | samples | 49,621 | 32.1 | 0.40 | 0.13  | [1]    |\n",
       "| 2 | Albania             | 18 Feb 2021 | 428,654 | samples | 96,838 | 22.6 | 15.0 | 3.4   | [2]    |\n",
       "| 3 | Algeria             | 2 Nov 2020  | 230,553 | samples | 58,574 | 25.4 | 0.53 | 0.13  | [3][4] |\n",
       "| 4 | Andorra             | 23 Feb 2022 | 300,307 | samples | 37,958 | 12.6 | 387  | 49.0  | [5]    |\n",
       "| 5 | Angola              | 2 Feb 2021  | 399,228 | samples | 20,981 | 5.3  | 1.3  | 0.067 | [6]    |\n",
       "| 6 | Antigua and Barbuda | 6 Mar 2021  | 15,268  | samples | 832    | 5.4  | 15.9 | 0.86  | [7]    |\n",
       "\n"
      ],
      "text/plain": [
       "  Country.or.region   Date.a.     Tested  Units.b. Confirmed.cases.\n",
       "1 Afghanistan         17 Dec 2020 154,767 samples  49,621          \n",
       "2 Albania             18 Feb 2021 428,654 samples  96,838          \n",
       "3 Algeria             2 Nov 2020  230,553 samples  58,574          \n",
       "4 Andorra             23 Feb 2022 300,307 samples  37,958          \n",
       "5 Angola              2 Feb 2021  399,228 samples  20,981          \n",
       "6 Antigua and Barbuda 6 Mar 2021  15,268  samples  832             \n",
       "  Confirmed..tested.. Tested..population.. Confirmed..population.. Ref.  \n",
       "1 32.1                0.40                 0.13                    [1]   \n",
       "2 22.6                15.0                 3.4                     [2]   \n",
       "3 25.4                0.53                 0.13                    [3][4]\n",
       "4 12.6                387                  49.0                    [5]   \n",
       "5 5.3                 1.3                  0.067                   [6]   \n",
       "6 5.4                 15.9                 0.86                    [7]   "
      ]
     },
     "metadata": {},
     "output_type": "display_data"
    }
   ],
   "source": [
    "# Read the table node and convert it into a data frame, and print the data frame for review\n",
    "data_frame <- as.data.frame(html_table(table_node[2]))\n",
    "head(data_frame)"
   ]
  },
  {
   "cell_type": "markdown",
   "metadata": {
    "tags": []
   },
   "source": [
    "## TASK 3: Pre-process and export the extracted data frame\n",
    "\n",
    "The goal of task 3 is to pre-process the extracted data frame from the previous step, and export it as a csv file\n"
   ]
  },
  {
   "cell_type": "markdown",
   "metadata": {},
   "source": [
    "Let's get a summary of the data frame\n"
   ]
  },
  {
   "cell_type": "code",
   "execution_count": 8,
   "metadata": {
    "tags": []
   },
   "outputs": [
    {
     "data": {
      "text/plain": [
       " Country.or.region    Date.a.             Tested            Units.b.        \n",
       " Length:173         Length:173         Length:173         Length:173        \n",
       " Class :character   Class :character   Class :character   Class :character  \n",
       " Mode  :character   Mode  :character   Mode  :character   Mode  :character  \n",
       " Confirmed.cases.   Confirmed..tested.. Tested..population..\n",
       " Length:173         Length:173          Length:173          \n",
       " Class :character   Class :character    Class :character    \n",
       " Mode  :character   Mode  :character    Mode  :character    \n",
       " Confirmed..population..     Ref.          \n",
       " Length:173              Length:173        \n",
       " Class :character        Class :character  \n",
       " Mode  :character        Mode  :character  "
      ]
     },
     "metadata": {},
     "output_type": "display_data"
    }
   ],
   "source": [
    "# Print the summary of the data frame\n",
    "summary(data_frame)"
   ]
  },
  {
   "cell_type": "markdown",
   "metadata": {},
   "source": [
    "As you can see from the summary, the columns names are little bit different to understand and some column data types are not correct. For example, the `Tested` column shows as `character`. \n",
    "\n",
    "As such, the data frame read from HTML table will need some pre-processing such as removing irrelvant columns, renaming columns, and convert columns into proper data types.\n"
   ]
  },
  {
   "cell_type": "markdown",
   "metadata": {},
   "source": [
    "We have prepared a pre-processing function for you to conver the data frame but you can also try to write one by yourself\n",
    "#### NOTE: I had to make some changes in column names in the provided function like column \"Country or region\" and  \"Units.b.\" otherwise if I use the function as it is it will give an empty data frame.\n"
   ]
  },
  {
   "cell_type": "code",
   "execution_count": 10,
   "metadata": {
    "tags": []
   },
   "outputs": [],
   "source": [
    "preprocess_covid_data_frame <- function(data_frame) {\n",
    "    \n",
    "    shape <- dim(data_frame)\n",
    "\n",
    "    # Remove the World row\n",
    "     data_frame <- data_frame[!(data_frame$`Country.or.region`==\"World\"),]\n",
    "    # Remove the last row\n",
    "    data_frame <- data_frame[1:172, ]\n",
    "    \n",
    "    # We dont need the Units and Ref columns, so can be removed\n",
    "    data_frame[\"Ref.\"] <- NULL\n",
    "    data_frame[\"Units.b.\"] <- NULL\n",
    "    \n",
    "    # Renaming the columns\n",
    "    names(data_frame) <- c(\"country\", \"date\", \"tested\", \"confirmed\", \"confirmed.tested.ratio\", \"tested.population.ratio\", \"confirmed.population.ratio\")\n",
    "    \n",
    "    # Convert column data types\n",
    "    # Convert column data types\n",
    "   data_frame$country <- as.factor(data_frame$country)\n",
    "    data_frame$date <- as.factor(data_frame$date)\n",
    "    data_frame$tested <- as.numeric(gsub(\",\",\"\",data_frame$tested))\n",
    "    data_frame$confirmed <- as.numeric(gsub(\",\",\"\",data_frame$confirmed))\n",
    "    data_frame$'confirmed.tested.ratio' <- as.numeric(gsub(\",\",\"\",data_frame$`confirmed.tested.ratio`))\n",
    "    data_frame$'tested.population.ratio' <- as.numeric(gsub(\",\",\"\",data_frame$`tested.population.ratio`))\n",
    "    data_frame$'confirmed.population.ratio' <- as.numeric(gsub(\",\",\"\",data_frame$`confirmed.population.ratio`))\n",
    "    \n",
    "    return(data_frame)\n",
    "}"
   ]
  },
  {
   "cell_type": "markdown",
   "metadata": {},
   "source": [
    "Call the `preprocess_covid_data_frame` function\n"
   ]
  },
  {
   "cell_type": "code",
   "execution_count": 11,
   "metadata": {
    "tags": []
   },
   "outputs": [
    {
     "data": {
      "text/html": [
       "<table>\n",
       "<caption>A data.frame: 6 × 7</caption>\n",
       "<thead>\n",
       "\t<tr><th></th><th scope=col>country</th><th scope=col>date</th><th scope=col>tested</th><th scope=col>confirmed</th><th scope=col>confirmed.tested.ratio</th><th scope=col>tested.population.ratio</th><th scope=col>confirmed.population.ratio</th></tr>\n",
       "\t<tr><th></th><th scope=col>&lt;fct&gt;</th><th scope=col>&lt;fct&gt;</th><th scope=col>&lt;dbl&gt;</th><th scope=col>&lt;dbl&gt;</th><th scope=col>&lt;dbl&gt;</th><th scope=col>&lt;dbl&gt;</th><th scope=col>&lt;dbl&gt;</th></tr>\n",
       "</thead>\n",
       "<tbody>\n",
       "\t<tr><th scope=row>1</th><td>Afghanistan        </td><td>17 Dec 2020</td><td>154767</td><td>49621</td><td>32.1</td><td>  0.40</td><td> 0.130</td></tr>\n",
       "\t<tr><th scope=row>2</th><td>Albania            </td><td>18 Feb 2021</td><td>428654</td><td>96838</td><td>22.6</td><td> 15.00</td><td> 3.400</td></tr>\n",
       "\t<tr><th scope=row>3</th><td>Algeria            </td><td>2 Nov 2020 </td><td>230553</td><td>58574</td><td>25.4</td><td>  0.53</td><td> 0.130</td></tr>\n",
       "\t<tr><th scope=row>4</th><td>Andorra            </td><td>23 Feb 2022</td><td>300307</td><td>37958</td><td>12.6</td><td>387.00</td><td>49.000</td></tr>\n",
       "\t<tr><th scope=row>5</th><td>Angola             </td><td>2 Feb 2021 </td><td>399228</td><td>20981</td><td> 5.3</td><td>  1.30</td><td> 0.067</td></tr>\n",
       "\t<tr><th scope=row>6</th><td>Antigua and Barbuda</td><td>6 Mar 2021 </td><td> 15268</td><td>  832</td><td> 5.4</td><td> 15.90</td><td> 0.860</td></tr>\n",
       "</tbody>\n",
       "</table>\n"
      ],
      "text/latex": [
       "A data.frame: 6 × 7\n",
       "\\begin{tabular}{r|lllllll}\n",
       "  & country & date & tested & confirmed & confirmed.tested.ratio & tested.population.ratio & confirmed.population.ratio\\\\\n",
       "  & <fct> & <fct> & <dbl> & <dbl> & <dbl> & <dbl> & <dbl>\\\\\n",
       "\\hline\n",
       "\t1 & Afghanistan         & 17 Dec 2020 & 154767 & 49621 & 32.1 &   0.40 &  0.130\\\\\n",
       "\t2 & Albania             & 18 Feb 2021 & 428654 & 96838 & 22.6 &  15.00 &  3.400\\\\\n",
       "\t3 & Algeria             & 2 Nov 2020  & 230553 & 58574 & 25.4 &   0.53 &  0.130\\\\\n",
       "\t4 & Andorra             & 23 Feb 2022 & 300307 & 37958 & 12.6 & 387.00 & 49.000\\\\\n",
       "\t5 & Angola              & 2 Feb 2021  & 399228 & 20981 &  5.3 &   1.30 &  0.067\\\\\n",
       "\t6 & Antigua and Barbuda & 6 Mar 2021  &  15268 &   832 &  5.4 &  15.90 &  0.860\\\\\n",
       "\\end{tabular}\n"
      ],
      "text/markdown": [
       "\n",
       "A data.frame: 6 × 7\n",
       "\n",
       "| <!--/--> | country &lt;fct&gt; | date &lt;fct&gt; | tested &lt;dbl&gt; | confirmed &lt;dbl&gt; | confirmed.tested.ratio &lt;dbl&gt; | tested.population.ratio &lt;dbl&gt; | confirmed.population.ratio &lt;dbl&gt; |\n",
       "|---|---|---|---|---|---|---|---|\n",
       "| 1 | Afghanistan         | 17 Dec 2020 | 154767 | 49621 | 32.1 |   0.40 |  0.130 |\n",
       "| 2 | Albania             | 18 Feb 2021 | 428654 | 96838 | 22.6 |  15.00 |  3.400 |\n",
       "| 3 | Algeria             | 2 Nov 2020  | 230553 | 58574 | 25.4 |   0.53 |  0.130 |\n",
       "| 4 | Andorra             | 23 Feb 2022 | 300307 | 37958 | 12.6 | 387.00 | 49.000 |\n",
       "| 5 | Angola              | 2 Feb 2021  | 399228 | 20981 |  5.3 |   1.30 |  0.067 |\n",
       "| 6 | Antigua and Barbuda | 6 Mar 2021  |  15268 |   832 |  5.4 |  15.90 |  0.860 |\n",
       "\n"
      ],
      "text/plain": [
       "  country             date        tested confirmed confirmed.tested.ratio\n",
       "1 Afghanistan         17 Dec 2020 154767 49621     32.1                  \n",
       "2 Albania             18 Feb 2021 428654 96838     22.6                  \n",
       "3 Algeria             2 Nov 2020  230553 58574     25.4                  \n",
       "4 Andorra             23 Feb 2022 300307 37958     12.6                  \n",
       "5 Angola              2 Feb 2021  399228 20981      5.3                  \n",
       "6 Antigua and Barbuda 6 Mar 2021   15268   832      5.4                  \n",
       "  tested.population.ratio confirmed.population.ratio\n",
       "1   0.40                   0.130                    \n",
       "2  15.00                   3.400                    \n",
       "3   0.53                   0.130                    \n",
       "4 387.00                  49.000                    \n",
       "5   1.30                   0.067                    \n",
       "6  15.90                   0.860                    "
      ]
     },
     "metadata": {},
     "output_type": "display_data"
    }
   ],
   "source": [
    "# call `preprocess_covid_data_frame` function and assign it to a new data frame\n",
    "proper_data_frame <- preprocess_covid_data_frame(data_frame)\n",
    "head(proper_data_frame)"
   ]
  },
  {
   "cell_type": "markdown",
   "metadata": {},
   "source": [
    "Get the summary of the processed data frame again\n"
   ]
  },
  {
   "cell_type": "code",
   "execution_count": 12,
   "metadata": {
    "tags": []
   },
   "outputs": [
    {
     "data": {
      "text/plain": [
       "                country             date         tested         \n",
       " Afghanistan        :  1   2 Feb 2023 :  6   Min.   :     3880  \n",
       " Albania            :  1   1 Feb 2023 :  4   1st Qu.:   512037  \n",
       " Algeria            :  1   31 Jan 2023:  4   Median :  3029859  \n",
       " Andorra            :  1   1 Mar 2021 :  3   Mean   : 31376213  \n",
       " Angola             :  1   23 Jul 2021:  3   3rd Qu.: 12386725  \n",
       " Antigua and Barbuda:  1   29 Jan 2023:  3   Max.   :929349291  \n",
       " (Other)            :166   (Other)    :149                      \n",
       "   confirmed        confirmed.tested.ratio tested.population.ratio\n",
       " Min.   :       0   Min.   : 0.00          Min.   :   0.006       \n",
       " 1st Qu.:   37839   1st Qu.: 5.00          1st Qu.:   9.475       \n",
       " Median :  281196   Median :10.05          Median :  46.950       \n",
       " Mean   : 2508327   Mean   :11.25          Mean   : 175.504       \n",
       " 3rd Qu.: 1278105   3rd Qu.:15.25          3rd Qu.: 156.500       \n",
       " Max.   :90749469   Max.   :46.80          Max.   :3223.000       \n",
       "                                                                  \n",
       " confirmed.population.ratio\n",
       " Min.   : 0.000            \n",
       " 1st Qu.: 0.425            \n",
       " Median : 6.100            \n",
       " Mean   :12.769            \n",
       " 3rd Qu.:16.250            \n",
       " Max.   :74.400            \n",
       "                           "
      ]
     },
     "metadata": {},
     "output_type": "display_data"
    }
   ],
   "source": [
    "# Print the summary of the processed data frame again\n",
    "summary(proper_data_frame)"
   ]
  },
  {
   "cell_type": "markdown",
   "metadata": {},
   "source": [
    "After pre-processing, you can see the columns and columns names are simplified, and columns types are converted into correct types.\n"
   ]
  },
  {
   "cell_type": "markdown",
   "metadata": {},
   "source": [
    "The data frame has following columns:\n",
    "\n",
    "- **country** - The name of the country\n",
    "- **date** - Reported date\n",
    "- **tested** - Total tested cases by the reported date\n",
    "- **confirmed** - Total confirmed cases by the reported date\n",
    "- **confirmed.tested.ratio** - The ratio of confirmed cases to the tested cases\n",
    "- **tested.population.ratio** - The ratio of tested cases to the population of the country\n",
    "- **confirmed.population.ratio** - The ratio of confirmed cases to the population of the country\n"
   ]
  },
  {
   "cell_type": "markdown",
   "metadata": {},
   "source": [
    "OK, we can call `write.csv()` function to save the csv file into a file. \n"
   ]
  },
  {
   "cell_type": "code",
   "execution_count": 13,
   "metadata": {
    "tags": []
   },
   "outputs": [],
   "source": [
    "# Export the data frame to a csv file\n",
    "write.csv(proper_data_frame,file='covid-19(2023).csv',row.names=FALSE)"
   ]
  },
  {
   "cell_type": "markdown",
   "metadata": {},
   "source": [
    "Note for IBM Waston Studio, there is no traditional \"hard disk\" associated with a R workspace.\n",
    "\n",
    "Even if you call `write.csv()` method to save the data frame as a csv file, it won't be shown in IBM Cloud Object Storage asset UI automatically.\n",
    "\n",
    "However, you may still check if the `covid.csv` exists using following code snippet:\n"
   ]
  },
  {
   "cell_type": "code",
   "execution_count": 14,
   "metadata": {
    "tags": []
   },
   "outputs": [
    {
     "name": "stdout",
     "output_type": "stream",
     "text": [
      "[1] \"/resources/labs/authoride/IBMSkillsNetwork+RP0101EN/v2/M5_Final/covid.csv\"\n"
     ]
    },
    {
     "data": {
      "text/html": [
       "FALSE"
      ],
      "text/latex": [
       "FALSE"
      ],
      "text/markdown": [
       "FALSE"
      ],
      "text/plain": [
       "[1] FALSE"
      ]
     },
     "metadata": {},
     "output_type": "display_data"
    },
    {
     "name": "stdout",
     "output_type": "stream",
     "text": [
      "[1] \"/resources/labs/authoride/IBMSkillsNetwork+RP0101EN/v2/M5_Final/covid-19(2023).csv\"\n"
     ]
    },
    {
     "data": {
      "text/html": [
       "TRUE"
      ],
      "text/latex": [
       "TRUE"
      ],
      "text/markdown": [
       "TRUE"
      ],
      "text/plain": [
       "[1] TRUE"
      ]
     },
     "metadata": {},
     "output_type": "display_data"
    }
   ],
   "source": [
    "# Get working directory\n",
    "wd <- getwd()\n",
    "# Get exported \n",
    "file_path <- paste(wd, sep=\"\", \"/covid.csv\")\n",
    "# File path\n",
    "print(file_path)\n",
    "file.exists(file_path)\n",
    "# My saved file with new name\n",
    "file_path <- paste(wd, sep=\"\", \"/covid-19(2023).csv\")\n",
    "print(file_path)\n",
    "file.exists(file_path)"
   ]
  },
  {
   "cell_type": "markdown",
   "metadata": {},
   "source": [
    "**Optional Step**: If you have difficulties finishing above webscraping tasks, you may still continue with next tasks by downloading a provided csv file from here:\n"
   ]
  },
  {
   "cell_type": "code",
   "execution_count": 14,
   "metadata": {},
   "outputs": [],
   "source": [
    "## Download a sample csv file\n",
    "# covid_csv_file <- download.file(\"https://cf-courses-data.s3.us.cloud-object-storage.appdomain.cloud/IBMDeveloperSkillsNetwork-RP0101EN-Coursera/v2/dataset/covid.csv\", destfile=\"covid.csv\")\n",
    "# covid_data_frame_csv <- read.csv(\"covid.csv\", header=TRUE, sep=\",\")"
   ]
  },
  {
   "cell_type": "markdown",
   "metadata": {},
   "source": [
    "## TASK 4: Get a subset of the extracted data frame\n",
    "\n",
    "The goal of task 4 is to get the 5th to 10th rows from the data frame with only `country` and `confirmed` columns selected\n"
   ]
  },
  {
   "cell_type": "code",
   "execution_count": 15,
   "metadata": {
    "tags": []
   },
   "outputs": [
    {
     "data": {
      "text/html": [
       "<table>\n",
       "<caption>A data.frame: 6 × 2</caption>\n",
       "<thead>\n",
       "\t<tr><th></th><th scope=col>country</th><th scope=col>confirmed</th></tr>\n",
       "\t<tr><th></th><th scope=col>&lt;fct&gt;</th><th scope=col>&lt;int&gt;</th></tr>\n",
       "</thead>\n",
       "<tbody>\n",
       "\t<tr><th scope=row>5</th><td>Angola             </td><td>   20981</td></tr>\n",
       "\t<tr><th scope=row>6</th><td>Antigua and Barbuda</td><td>     832</td></tr>\n",
       "\t<tr><th scope=row>7</th><td>Argentina          </td><td> 9060495</td></tr>\n",
       "\t<tr><th scope=row>8</th><td>Armenia            </td><td>  422963</td></tr>\n",
       "\t<tr><th scope=row>9</th><td>Australia          </td><td>10112229</td></tr>\n",
       "\t<tr><th scope=row>10</th><td>Austria            </td><td> 5789991</td></tr>\n",
       "</tbody>\n",
       "</table>\n"
      ],
      "text/latex": [
       "A data.frame: 6 × 2\n",
       "\\begin{tabular}{r|ll}\n",
       "  & country & confirmed\\\\\n",
       "  & <fct> & <int>\\\\\n",
       "\\hline\n",
       "\t5 & Angola              &    20981\\\\\n",
       "\t6 & Antigua and Barbuda &      832\\\\\n",
       "\t7 & Argentina           &  9060495\\\\\n",
       "\t8 & Armenia             &   422963\\\\\n",
       "\t9 & Australia           & 10112229\\\\\n",
       "\t10 & Austria             &  5789991\\\\\n",
       "\\end{tabular}\n"
      ],
      "text/markdown": [
       "\n",
       "A data.frame: 6 × 2\n",
       "\n",
       "| <!--/--> | country &lt;fct&gt; | confirmed &lt;int&gt; |\n",
       "|---|---|---|\n",
       "| 5 | Angola              |    20981 |\n",
       "| 6 | Antigua and Barbuda |      832 |\n",
       "| 7 | Argentina           |  9060495 |\n",
       "| 8 | Armenia             |   422963 |\n",
       "| 9 | Australia           | 10112229 |\n",
       "| 10 | Austria             |  5789991 |\n",
       "\n"
      ],
      "text/plain": [
       "   country             confirmed\n",
       "5  Angola                 20981 \n",
       "6  Antigua and Barbuda      832 \n",
       "7  Argentina            9060495 \n",
       "8  Armenia               422963 \n",
       "9  Australia           10112229 \n",
       "10 Austria              5789991 "
      ]
     },
     "metadata": {},
     "output_type": "display_data"
    }
   ],
   "source": [
    "# Read covid_data_frame_csv from the csv file\n",
    "#read.csv(\"covid-19(2023).csv\")\n",
    "covid_data <- read.csv(\"covid-19(2023).csv\")\n",
    "# Get the 5th to 10th rows, with two \"country\" \"confirmed\" columns\n",
    "covid_data[5:10,c('country','confirmed')]"
   ]
  },
  {
   "cell_type": "markdown",
   "metadata": {},
   "source": [
    "## TASK 5: Calculate worldwide COVID testing positive ratio\n",
    "\n",
    "The goal of task 5 is to get the total confirmed and tested cases worldwide, and try to figure the overall positive ratio using `confirmed cases / tested cases`\n"
   ]
  },
  {
   "cell_type": "code",
   "execution_count": 16,
   "metadata": {
    "tags": []
   },
   "outputs": [
    {
     "data": {
      "text/html": [
       "431432249"
      ],
      "text/latex": [
       "431432249"
      ],
      "text/markdown": [
       "431432249"
      ],
      "text/plain": [
       "[1] 431432249"
      ]
     },
     "metadata": {},
     "output_type": "display_data"
    },
    {
     "data": {
      "text/html": [
       "5396708605"
      ],
      "text/latex": [
       "5396708605"
      ],
      "text/markdown": [
       "5396708605"
      ],
      "text/plain": [
       "[1] 5396708605"
      ]
     },
     "metadata": {},
     "output_type": "display_data"
    },
    {
     "data": {
      "text/html": [
       "0.08"
      ],
      "text/latex": [
       "0.08"
      ],
      "text/markdown": [
       "0.08"
      ],
      "text/plain": [
       "[1] 0.08"
      ]
     },
     "metadata": {},
     "output_type": "display_data"
    }
   ],
   "source": [
    "# Get the total confirmed cases worldwide\n",
    "tot_confirmed <- sum(covid_data[,'confirmed'])\n",
    "tot_confirmed\n",
    "# Get the total tested cases worldwide\n",
    "tot_tested <- sum(covid_data[,'tested'])\n",
    "tot_tested\n",
    "# Get the positive ratio (confirmed / tested)\n",
    "positive_ratio <- tot_confirmed/tot_tested\n",
    "round(positive_ratio,2)"
   ]
  },
  {
   "cell_type": "markdown",
   "metadata": {},
   "source": [
    "## TASK 6: Get a country list which reported their testing data \n",
    "\n",
    "The goal of task 6 is to get a catalog or sorted list of countries who have reported their COVID-19 testing data\n"
   ]
  },
  {
   "cell_type": "code",
   "execution_count": 17,
   "metadata": {
    "tags": []
   },
   "outputs": [
    {
     "data": {
      "text/html": [
       "<style>\n",
       ".list-inline {list-style: none; margin:0; padding: 0}\n",
       ".list-inline>li {display: inline-block}\n",
       ".list-inline>li:not(:last-child)::after {content: \"\\00b7\"; padding: 0 .5ex}\n",
       "</style>\n",
       "<ol class=list-inline><li>Afghanistan</li><li>Albania</li><li>Algeria</li><li>Andorra</li><li>Angola</li><li>Antigua and Barbuda</li><li>Argentina</li><li>Armenia</li><li>Australia</li><li>Austria</li><li>Azerbaijan</li><li>Bahamas</li><li>Bahrain</li><li>Bangladesh</li><li>Barbados</li><li>Belarus</li><li>Belgium</li><li>Belize</li><li>Benin</li><li>Bhutan</li><li>Bolivia</li><li>Bosnia and Herzegovina</li><li>Botswana</li><li>Brazil</li><li>Brunei</li><li>Bulgaria</li><li>Burkina Faso</li><li>Burundi</li><li>Cambodia</li><li>Cameroon</li><li>Canada</li><li>Chad</li><li>Chile</li><li>China[c]</li><li>Colombia</li><li>Costa Rica</li><li>Croatia</li><li>Cuba</li><li>Cyprus[d]</li><li>Czechia</li><li>Denmark[e]</li><li>Djibouti</li><li>Dominica</li><li>Dominican Republic</li><li>DR Congo</li><li>Ecuador</li><li>Egypt</li><li>El Salvador</li><li>Equatorial Guinea</li><li>Estonia</li><li>Eswatini</li><li>Ethiopia</li><li>Faroe Islands</li><li>Fiji</li><li>Finland</li><li>France[f][g]</li><li>Gabon</li><li>Gambia</li><li>Georgia[h]</li><li>Germany</li><li>Ghana</li><li>Greece</li><li>Greenland</li><li>Grenada</li><li>Guatemala</li><li>Guinea</li><li>Guinea-Bissau</li><li>Guyana</li><li>Haiti</li><li>Honduras</li><li>Hungary</li><li>Iceland</li><li>India</li><li>Indonesia</li><li>Iran</li><li>Iraq</li><li>Ireland</li><li>Israel</li><li>Italy</li><li>Ivory Coast</li><li>Jamaica</li><li>Japan</li><li>Jordan</li><li>Kazakhstan</li><li>Kenya</li><li>Kosovo</li><li>Kuwait</li><li>Kyrgyzstan</li><li>Laos</li><li>Latvia</li><li>Lebanon</li><li>Lesotho</li><li>Liberia</li><li>Libya</li><li>Lithuania</li><li>Luxembourg[i]</li><li>Madagascar</li><li>Malawi</li><li>Malaysia</li><li>Maldives</li><li>Mali</li><li>Malta</li><li>Mauritania</li><li>Mauritius</li><li>Mexico</li><li>Moldova[j]</li><li>Mongolia</li><li>Montenegro</li><li>Morocco</li><li>Mozambique</li><li>Myanmar</li><li>Namibia</li><li>Nepal</li><li>Netherlands</li><li>New Caledonia</li><li>New Zealand</li><li>Niger</li><li>Nigeria</li><li>North Korea</li><li>North Macedonia</li><li>Northern Cyprus[k]</li><li>Norway</li><li>Oman</li><li>Pakistan</li><li>Palestine</li><li>Panama</li><li>Papua New Guinea</li><li>Paraguay</li><li>Peru</li><li>Philippines</li><li>Poland</li><li>Portugal</li><li>Qatar</li><li>Romania</li><li>Russia</li><li>Rwanda</li><li>Saint Kitts and Nevis</li><li>Saint Lucia</li><li>Saint Vincent</li><li>San Marino</li><li>Saudi Arabia</li><li>Senegal</li><li>Serbia</li><li>Singapore</li><li>Slovakia</li><li>Slovenia</li><li>South Africa</li><li>South Korea</li><li>South Sudan</li><li>Spain</li><li>Sri Lanka</li><li>Sudan</li><li>Sweden</li><li>Switzerland[l]</li><li>Taiwan[m]</li><li>Tanzania</li><li>Thailand</li><li>Togo</li><li>Trinidad and Tobago</li><li>Tunisia</li><li>Turkey</li><li>Uganda</li><li>Ukraine</li><li>United Arab Emirates</li><li>United Kingdom</li><li>United States</li><li>Uruguay</li><li>Uzbekistan</li><li>Venezuela</li><li>Vietnam</li><li>Zambia</li><li>Zimbabwe</li></ol>\n",
       "\n",
       "<details>\n",
       "\t<summary style=display:list-item;cursor:pointer>\n",
       "\t\t<strong>Levels</strong>:\n",
       "\t</summary>\n",
       "\t<style>\n",
       "\t.list-inline {list-style: none; margin:0; padding: 0}\n",
       "\t.list-inline>li {display: inline-block}\n",
       "\t.list-inline>li:not(:last-child)::after {content: \"\\00b7\"; padding: 0 .5ex}\n",
       "\t</style>\n",
       "\t<ol class=list-inline><li>'Afghanistan'</li><li>'Albania'</li><li>'Algeria'</li><li>'Andorra'</li><li>'Angola'</li><li>'Antigua and Barbuda'</li><li>'Argentina'</li><li>'Armenia'</li><li>'Australia'</li><li>'Austria'</li><li>'Azerbaijan'</li><li>'Bahamas'</li><li>'Bahrain'</li><li>'Bangladesh'</li><li>'Barbados'</li><li>'Belarus'</li><li>'Belgium'</li><li>'Belize'</li><li>'Benin'</li><li>'Bhutan'</li><li>'Bolivia'</li><li>'Bosnia and Herzegovina'</li><li>'Botswana'</li><li>'Brazil'</li><li>'Brunei'</li><li>'Bulgaria'</li><li>'Burkina Faso'</li><li>'Burundi'</li><li>'Cambodia'</li><li>'Cameroon'</li><li>'Canada'</li><li>'Chad'</li><li>'Chile'</li><li>'China[c]'</li><li>'Colombia'</li><li>'Costa Rica'</li><li>'Croatia'</li><li>'Cuba'</li><li>'Cyprus[d]'</li><li>'Czechia'</li><li>'Denmark[e]'</li><li>'Djibouti'</li><li>'Dominica'</li><li>'Dominican Republic'</li><li>'DR Congo'</li><li>'Ecuador'</li><li>'Egypt'</li><li>'El Salvador'</li><li>'Equatorial Guinea'</li><li>'Estonia'</li><li>'Eswatini'</li><li>'Ethiopia'</li><li>'Faroe Islands'</li><li>'Fiji'</li><li>'Finland'</li><li>'France[f][g]'</li><li>'Gabon'</li><li>'Gambia'</li><li>'Georgia[h]'</li><li>'Germany'</li><li>'Ghana'</li><li>'Greece'</li><li>'Greenland'</li><li>'Grenada'</li><li>'Guatemala'</li><li>'Guinea'</li><li>'Guinea-Bissau'</li><li>'Guyana'</li><li>'Haiti'</li><li>'Honduras'</li><li>'Hungary'</li><li>'Iceland'</li><li>'India'</li><li>'Indonesia'</li><li>'Iran'</li><li>'Iraq'</li><li>'Ireland'</li><li>'Israel'</li><li>'Italy'</li><li>'Ivory Coast'</li><li>'Jamaica'</li><li>'Japan'</li><li>'Jordan'</li><li>'Kazakhstan'</li><li>'Kenya'</li><li>'Kosovo'</li><li>'Kuwait'</li><li>'Kyrgyzstan'</li><li>'Laos'</li><li>'Latvia'</li><li>'Lebanon'</li><li>'Lesotho'</li><li>'Liberia'</li><li>'Libya'</li><li>'Lithuania'</li><li>'Luxembourg[i]'</li><li>'Madagascar'</li><li>'Malawi'</li><li>'Malaysia'</li><li>'Maldives'</li><li>'Mali'</li><li>'Malta'</li><li>'Mauritania'</li><li>'Mauritius'</li><li>'Mexico'</li><li>'Moldova[j]'</li><li>'Mongolia'</li><li>'Montenegro'</li><li>'Morocco'</li><li>'Mozambique'</li><li>'Myanmar'</li><li>'Namibia'</li><li>'Nepal'</li><li>'Netherlands'</li><li>'New Caledonia'</li><li>'New Zealand'</li><li>'Niger'</li><li>'Nigeria'</li><li>'North Korea'</li><li>'North Macedonia'</li><li>'Northern Cyprus[k]'</li><li>'Norway'</li><li>'Oman'</li><li>'Pakistan'</li><li>'Palestine'</li><li>'Panama'</li><li>'Papua New Guinea'</li><li>'Paraguay'</li><li>'Peru'</li><li>'Philippines'</li><li>'Poland'</li><li>'Portugal'</li><li>'Qatar'</li><li>'Romania'</li><li>'Russia'</li><li>'Rwanda'</li><li>'Saint Kitts and Nevis'</li><li>'Saint Lucia'</li><li>'Saint Vincent'</li><li>'San Marino'</li><li>'Saudi Arabia'</li><li>'Senegal'</li><li>'Serbia'</li><li>'Singapore'</li><li>'Slovakia'</li><li>'Slovenia'</li><li>'South Africa'</li><li>'South Korea'</li><li>'South Sudan'</li><li>'Spain'</li><li>'Sri Lanka'</li><li>'Sudan'</li><li>'Sweden'</li><li>'Switzerland[l]'</li><li>'Taiwan[m]'</li><li>'Tanzania'</li><li>'Thailand'</li><li>'Togo'</li><li>'Trinidad and Tobago'</li><li>'Tunisia'</li><li>'Turkey'</li><li>'Uganda'</li><li>'Ukraine'</li><li>'United Arab Emirates'</li><li>'United Kingdom'</li><li>'United States'</li><li>'Uruguay'</li><li>'Uzbekistan'</li><li>'Venezuela'</li><li>'Vietnam'</li><li>'Zambia'</li><li>'Zimbabwe'</li></ol>\n",
       "</details>"
      ],
      "text/latex": [
       "\\begin{enumerate*}\n",
       "\\item Afghanistan\n",
       "\\item Albania\n",
       "\\item Algeria\n",
       "\\item Andorra\n",
       "\\item Angola\n",
       "\\item Antigua and Barbuda\n",
       "\\item Argentina\n",
       "\\item Armenia\n",
       "\\item Australia\n",
       "\\item Austria\n",
       "\\item Azerbaijan\n",
       "\\item Bahamas\n",
       "\\item Bahrain\n",
       "\\item Bangladesh\n",
       "\\item Barbados\n",
       "\\item Belarus\n",
       "\\item Belgium\n",
       "\\item Belize\n",
       "\\item Benin\n",
       "\\item Bhutan\n",
       "\\item Bolivia\n",
       "\\item Bosnia and Herzegovina\n",
       "\\item Botswana\n",
       "\\item Brazil\n",
       "\\item Brunei\n",
       "\\item Bulgaria\n",
       "\\item Burkina Faso\n",
       "\\item Burundi\n",
       "\\item Cambodia\n",
       "\\item Cameroon\n",
       "\\item Canada\n",
       "\\item Chad\n",
       "\\item Chile\n",
       "\\item China{[}c{]}\n",
       "\\item Colombia\n",
       "\\item Costa Rica\n",
       "\\item Croatia\n",
       "\\item Cuba\n",
       "\\item Cyprus{[}d{]}\n",
       "\\item Czechia\n",
       "\\item Denmark{[}e{]}\n",
       "\\item Djibouti\n",
       "\\item Dominica\n",
       "\\item Dominican Republic\n",
       "\\item DR Congo\n",
       "\\item Ecuador\n",
       "\\item Egypt\n",
       "\\item El Salvador\n",
       "\\item Equatorial Guinea\n",
       "\\item Estonia\n",
       "\\item Eswatini\n",
       "\\item Ethiopia\n",
       "\\item Faroe Islands\n",
       "\\item Fiji\n",
       "\\item Finland\n",
       "\\item France{[}f{]}{[}g{]}\n",
       "\\item Gabon\n",
       "\\item Gambia\n",
       "\\item Georgia{[}h{]}\n",
       "\\item Germany\n",
       "\\item Ghana\n",
       "\\item Greece\n",
       "\\item Greenland\n",
       "\\item Grenada\n",
       "\\item Guatemala\n",
       "\\item Guinea\n",
       "\\item Guinea-Bissau\n",
       "\\item Guyana\n",
       "\\item Haiti\n",
       "\\item Honduras\n",
       "\\item Hungary\n",
       "\\item Iceland\n",
       "\\item India\n",
       "\\item Indonesia\n",
       "\\item Iran\n",
       "\\item Iraq\n",
       "\\item Ireland\n",
       "\\item Israel\n",
       "\\item Italy\n",
       "\\item Ivory Coast\n",
       "\\item Jamaica\n",
       "\\item Japan\n",
       "\\item Jordan\n",
       "\\item Kazakhstan\n",
       "\\item Kenya\n",
       "\\item Kosovo\n",
       "\\item Kuwait\n",
       "\\item Kyrgyzstan\n",
       "\\item Laos\n",
       "\\item Latvia\n",
       "\\item Lebanon\n",
       "\\item Lesotho\n",
       "\\item Liberia\n",
       "\\item Libya\n",
       "\\item Lithuania\n",
       "\\item Luxembourg{[}i{]}\n",
       "\\item Madagascar\n",
       "\\item Malawi\n",
       "\\item Malaysia\n",
       "\\item Maldives\n",
       "\\item Mali\n",
       "\\item Malta\n",
       "\\item Mauritania\n",
       "\\item Mauritius\n",
       "\\item Mexico\n",
       "\\item Moldova{[}j{]}\n",
       "\\item Mongolia\n",
       "\\item Montenegro\n",
       "\\item Morocco\n",
       "\\item Mozambique\n",
       "\\item Myanmar\n",
       "\\item Namibia\n",
       "\\item Nepal\n",
       "\\item Netherlands\n",
       "\\item New Caledonia\n",
       "\\item New Zealand\n",
       "\\item Niger\n",
       "\\item Nigeria\n",
       "\\item North Korea\n",
       "\\item North Macedonia\n",
       "\\item Northern Cyprus{[}k{]}\n",
       "\\item Norway\n",
       "\\item Oman\n",
       "\\item Pakistan\n",
       "\\item Palestine\n",
       "\\item Panama\n",
       "\\item Papua New Guinea\n",
       "\\item Paraguay\n",
       "\\item Peru\n",
       "\\item Philippines\n",
       "\\item Poland\n",
       "\\item Portugal\n",
       "\\item Qatar\n",
       "\\item Romania\n",
       "\\item Russia\n",
       "\\item Rwanda\n",
       "\\item Saint Kitts and Nevis\n",
       "\\item Saint Lucia\n",
       "\\item Saint Vincent\n",
       "\\item San Marino\n",
       "\\item Saudi Arabia\n",
       "\\item Senegal\n",
       "\\item Serbia\n",
       "\\item Singapore\n",
       "\\item Slovakia\n",
       "\\item Slovenia\n",
       "\\item South Africa\n",
       "\\item South Korea\n",
       "\\item South Sudan\n",
       "\\item Spain\n",
       "\\item Sri Lanka\n",
       "\\item Sudan\n",
       "\\item Sweden\n",
       "\\item Switzerland{[}l{]}\n",
       "\\item Taiwan{[}m{]}\n",
       "\\item Tanzania\n",
       "\\item Thailand\n",
       "\\item Togo\n",
       "\\item Trinidad and Tobago\n",
       "\\item Tunisia\n",
       "\\item Turkey\n",
       "\\item Uganda\n",
       "\\item Ukraine\n",
       "\\item United Arab Emirates\n",
       "\\item United Kingdom\n",
       "\\item United States\n",
       "\\item Uruguay\n",
       "\\item Uzbekistan\n",
       "\\item Venezuela\n",
       "\\item Vietnam\n",
       "\\item Zambia\n",
       "\\item Zimbabwe\n",
       "\\end{enumerate*}\n",
       "\n",
       "\\emph{Levels}: \\begin{enumerate*}\n",
       "\\item 'Afghanistan'\n",
       "\\item 'Albania'\n",
       "\\item 'Algeria'\n",
       "\\item 'Andorra'\n",
       "\\item 'Angola'\n",
       "\\item 'Antigua and Barbuda'\n",
       "\\item 'Argentina'\n",
       "\\item 'Armenia'\n",
       "\\item 'Australia'\n",
       "\\item 'Austria'\n",
       "\\item 'Azerbaijan'\n",
       "\\item 'Bahamas'\n",
       "\\item 'Bahrain'\n",
       "\\item 'Bangladesh'\n",
       "\\item 'Barbados'\n",
       "\\item 'Belarus'\n",
       "\\item 'Belgium'\n",
       "\\item 'Belize'\n",
       "\\item 'Benin'\n",
       "\\item 'Bhutan'\n",
       "\\item 'Bolivia'\n",
       "\\item 'Bosnia and Herzegovina'\n",
       "\\item 'Botswana'\n",
       "\\item 'Brazil'\n",
       "\\item 'Brunei'\n",
       "\\item 'Bulgaria'\n",
       "\\item 'Burkina Faso'\n",
       "\\item 'Burundi'\n",
       "\\item 'Cambodia'\n",
       "\\item 'Cameroon'\n",
       "\\item 'Canada'\n",
       "\\item 'Chad'\n",
       "\\item 'Chile'\n",
       "\\item 'China{[}c{]}'\n",
       "\\item 'Colombia'\n",
       "\\item 'Costa Rica'\n",
       "\\item 'Croatia'\n",
       "\\item 'Cuba'\n",
       "\\item 'Cyprus{[}d{]}'\n",
       "\\item 'Czechia'\n",
       "\\item 'Denmark{[}e{]}'\n",
       "\\item 'Djibouti'\n",
       "\\item 'Dominica'\n",
       "\\item 'Dominican Republic'\n",
       "\\item 'DR Congo'\n",
       "\\item 'Ecuador'\n",
       "\\item 'Egypt'\n",
       "\\item 'El Salvador'\n",
       "\\item 'Equatorial Guinea'\n",
       "\\item 'Estonia'\n",
       "\\item 'Eswatini'\n",
       "\\item 'Ethiopia'\n",
       "\\item 'Faroe Islands'\n",
       "\\item 'Fiji'\n",
       "\\item 'Finland'\n",
       "\\item 'France{[}f{]}{[}g{]}'\n",
       "\\item 'Gabon'\n",
       "\\item 'Gambia'\n",
       "\\item 'Georgia{[}h{]}'\n",
       "\\item 'Germany'\n",
       "\\item 'Ghana'\n",
       "\\item 'Greece'\n",
       "\\item 'Greenland'\n",
       "\\item 'Grenada'\n",
       "\\item 'Guatemala'\n",
       "\\item 'Guinea'\n",
       "\\item 'Guinea-Bissau'\n",
       "\\item 'Guyana'\n",
       "\\item 'Haiti'\n",
       "\\item 'Honduras'\n",
       "\\item 'Hungary'\n",
       "\\item 'Iceland'\n",
       "\\item 'India'\n",
       "\\item 'Indonesia'\n",
       "\\item 'Iran'\n",
       "\\item 'Iraq'\n",
       "\\item 'Ireland'\n",
       "\\item 'Israel'\n",
       "\\item 'Italy'\n",
       "\\item 'Ivory Coast'\n",
       "\\item 'Jamaica'\n",
       "\\item 'Japan'\n",
       "\\item 'Jordan'\n",
       "\\item 'Kazakhstan'\n",
       "\\item 'Kenya'\n",
       "\\item 'Kosovo'\n",
       "\\item 'Kuwait'\n",
       "\\item 'Kyrgyzstan'\n",
       "\\item 'Laos'\n",
       "\\item 'Latvia'\n",
       "\\item 'Lebanon'\n",
       "\\item 'Lesotho'\n",
       "\\item 'Liberia'\n",
       "\\item 'Libya'\n",
       "\\item 'Lithuania'\n",
       "\\item 'Luxembourg{[}i{]}'\n",
       "\\item 'Madagascar'\n",
       "\\item 'Malawi'\n",
       "\\item 'Malaysia'\n",
       "\\item 'Maldives'\n",
       "\\item 'Mali'\n",
       "\\item 'Malta'\n",
       "\\item 'Mauritania'\n",
       "\\item 'Mauritius'\n",
       "\\item 'Mexico'\n",
       "\\item 'Moldova{[}j{]}'\n",
       "\\item 'Mongolia'\n",
       "\\item 'Montenegro'\n",
       "\\item 'Morocco'\n",
       "\\item 'Mozambique'\n",
       "\\item 'Myanmar'\n",
       "\\item 'Namibia'\n",
       "\\item 'Nepal'\n",
       "\\item 'Netherlands'\n",
       "\\item 'New Caledonia'\n",
       "\\item 'New Zealand'\n",
       "\\item 'Niger'\n",
       "\\item 'Nigeria'\n",
       "\\item 'North Korea'\n",
       "\\item 'North Macedonia'\n",
       "\\item 'Northern Cyprus{[}k{]}'\n",
       "\\item 'Norway'\n",
       "\\item 'Oman'\n",
       "\\item 'Pakistan'\n",
       "\\item 'Palestine'\n",
       "\\item 'Panama'\n",
       "\\item 'Papua New Guinea'\n",
       "\\item 'Paraguay'\n",
       "\\item 'Peru'\n",
       "\\item 'Philippines'\n",
       "\\item 'Poland'\n",
       "\\item 'Portugal'\n",
       "\\item 'Qatar'\n",
       "\\item 'Romania'\n",
       "\\item 'Russia'\n",
       "\\item 'Rwanda'\n",
       "\\item 'Saint Kitts and Nevis'\n",
       "\\item 'Saint Lucia'\n",
       "\\item 'Saint Vincent'\n",
       "\\item 'San Marino'\n",
       "\\item 'Saudi Arabia'\n",
       "\\item 'Senegal'\n",
       "\\item 'Serbia'\n",
       "\\item 'Singapore'\n",
       "\\item 'Slovakia'\n",
       "\\item 'Slovenia'\n",
       "\\item 'South Africa'\n",
       "\\item 'South Korea'\n",
       "\\item 'South Sudan'\n",
       "\\item 'Spain'\n",
       "\\item 'Sri Lanka'\n",
       "\\item 'Sudan'\n",
       "\\item 'Sweden'\n",
       "\\item 'Switzerland{[}l{]}'\n",
       "\\item 'Taiwan{[}m{]}'\n",
       "\\item 'Tanzania'\n",
       "\\item 'Thailand'\n",
       "\\item 'Togo'\n",
       "\\item 'Trinidad and Tobago'\n",
       "\\item 'Tunisia'\n",
       "\\item 'Turkey'\n",
       "\\item 'Uganda'\n",
       "\\item 'Ukraine'\n",
       "\\item 'United Arab Emirates'\n",
       "\\item 'United Kingdom'\n",
       "\\item 'United States'\n",
       "\\item 'Uruguay'\n",
       "\\item 'Uzbekistan'\n",
       "\\item 'Venezuela'\n",
       "\\item 'Vietnam'\n",
       "\\item 'Zambia'\n",
       "\\item 'Zimbabwe'\n",
       "\\end{enumerate*}\n"
      ],
      "text/markdown": [
       "1. Afghanistan\n",
       "2. Albania\n",
       "3. Algeria\n",
       "4. Andorra\n",
       "5. Angola\n",
       "6. Antigua and Barbuda\n",
       "7. Argentina\n",
       "8. Armenia\n",
       "9. Australia\n",
       "10. Austria\n",
       "11. Azerbaijan\n",
       "12. Bahamas\n",
       "13. Bahrain\n",
       "14. Bangladesh\n",
       "15. Barbados\n",
       "16. Belarus\n",
       "17. Belgium\n",
       "18. Belize\n",
       "19. Benin\n",
       "20. Bhutan\n",
       "21. Bolivia\n",
       "22. Bosnia and Herzegovina\n",
       "23. Botswana\n",
       "24. Brazil\n",
       "25. Brunei\n",
       "26. Bulgaria\n",
       "27. Burkina Faso\n",
       "28. Burundi\n",
       "29. Cambodia\n",
       "30. Cameroon\n",
       "31. Canada\n",
       "32. Chad\n",
       "33. Chile\n",
       "34. China[c]\n",
       "35. Colombia\n",
       "36. Costa Rica\n",
       "37. Croatia\n",
       "38. Cuba\n",
       "39. Cyprus[d]\n",
       "40. Czechia\n",
       "41. Denmark[e]\n",
       "42. Djibouti\n",
       "43. Dominica\n",
       "44. Dominican Republic\n",
       "45. DR Congo\n",
       "46. Ecuador\n",
       "47. Egypt\n",
       "48. El Salvador\n",
       "49. Equatorial Guinea\n",
       "50. Estonia\n",
       "51. Eswatini\n",
       "52. Ethiopia\n",
       "53. Faroe Islands\n",
       "54. Fiji\n",
       "55. Finland\n",
       "56. France[f][g]\n",
       "57. Gabon\n",
       "58. Gambia\n",
       "59. Georgia[h]\n",
       "60. Germany\n",
       "61. Ghana\n",
       "62. Greece\n",
       "63. Greenland\n",
       "64. Grenada\n",
       "65. Guatemala\n",
       "66. Guinea\n",
       "67. Guinea-Bissau\n",
       "68. Guyana\n",
       "69. Haiti\n",
       "70. Honduras\n",
       "71. Hungary\n",
       "72. Iceland\n",
       "73. India\n",
       "74. Indonesia\n",
       "75. Iran\n",
       "76. Iraq\n",
       "77. Ireland\n",
       "78. Israel\n",
       "79. Italy\n",
       "80. Ivory Coast\n",
       "81. Jamaica\n",
       "82. Japan\n",
       "83. Jordan\n",
       "84. Kazakhstan\n",
       "85. Kenya\n",
       "86. Kosovo\n",
       "87. Kuwait\n",
       "88. Kyrgyzstan\n",
       "89. Laos\n",
       "90. Latvia\n",
       "91. Lebanon\n",
       "92. Lesotho\n",
       "93. Liberia\n",
       "94. Libya\n",
       "95. Lithuania\n",
       "96. Luxembourg[i]\n",
       "97. Madagascar\n",
       "98. Malawi\n",
       "99. Malaysia\n",
       "100. Maldives\n",
       "101. Mali\n",
       "102. Malta\n",
       "103. Mauritania\n",
       "104. Mauritius\n",
       "105. Mexico\n",
       "106. Moldova[j]\n",
       "107. Mongolia\n",
       "108. Montenegro\n",
       "109. Morocco\n",
       "110. Mozambique\n",
       "111. Myanmar\n",
       "112. Namibia\n",
       "113. Nepal\n",
       "114. Netherlands\n",
       "115. New Caledonia\n",
       "116. New Zealand\n",
       "117. Niger\n",
       "118. Nigeria\n",
       "119. North Korea\n",
       "120. North Macedonia\n",
       "121. Northern Cyprus[k]\n",
       "122. Norway\n",
       "123. Oman\n",
       "124. Pakistan\n",
       "125. Palestine\n",
       "126. Panama\n",
       "127. Papua New Guinea\n",
       "128. Paraguay\n",
       "129. Peru\n",
       "130. Philippines\n",
       "131. Poland\n",
       "132. Portugal\n",
       "133. Qatar\n",
       "134. Romania\n",
       "135. Russia\n",
       "136. Rwanda\n",
       "137. Saint Kitts and Nevis\n",
       "138. Saint Lucia\n",
       "139. Saint Vincent\n",
       "140. San Marino\n",
       "141. Saudi Arabia\n",
       "142. Senegal\n",
       "143. Serbia\n",
       "144. Singapore\n",
       "145. Slovakia\n",
       "146. Slovenia\n",
       "147. South Africa\n",
       "148. South Korea\n",
       "149. South Sudan\n",
       "150. Spain\n",
       "151. Sri Lanka\n",
       "152. Sudan\n",
       "153. Sweden\n",
       "154. Switzerland[l]\n",
       "155. Taiwan[m]\n",
       "156. Tanzania\n",
       "157. Thailand\n",
       "158. Togo\n",
       "159. Trinidad and Tobago\n",
       "160. Tunisia\n",
       "161. Turkey\n",
       "162. Uganda\n",
       "163. Ukraine\n",
       "164. United Arab Emirates\n",
       "165. United Kingdom\n",
       "166. United States\n",
       "167. Uruguay\n",
       "168. Uzbekistan\n",
       "169. Venezuela\n",
       "170. Vietnam\n",
       "171. Zambia\n",
       "172. Zimbabwe\n",
       "\n",
       "\n",
       "\n",
       "**Levels**: 1. 'Afghanistan'\n",
       "2. 'Albania'\n",
       "3. 'Algeria'\n",
       "4. 'Andorra'\n",
       "5. 'Angola'\n",
       "6. 'Antigua and Barbuda'\n",
       "7. 'Argentina'\n",
       "8. 'Armenia'\n",
       "9. 'Australia'\n",
       "10. 'Austria'\n",
       "11. 'Azerbaijan'\n",
       "12. 'Bahamas'\n",
       "13. 'Bahrain'\n",
       "14. 'Bangladesh'\n",
       "15. 'Barbados'\n",
       "16. 'Belarus'\n",
       "17. 'Belgium'\n",
       "18. 'Belize'\n",
       "19. 'Benin'\n",
       "20. 'Bhutan'\n",
       "21. 'Bolivia'\n",
       "22. 'Bosnia and Herzegovina'\n",
       "23. 'Botswana'\n",
       "24. 'Brazil'\n",
       "25. 'Brunei'\n",
       "26. 'Bulgaria'\n",
       "27. 'Burkina Faso'\n",
       "28. 'Burundi'\n",
       "29. 'Cambodia'\n",
       "30. 'Cameroon'\n",
       "31. 'Canada'\n",
       "32. 'Chad'\n",
       "33. 'Chile'\n",
       "34. 'China[c]'\n",
       "35. 'Colombia'\n",
       "36. 'Costa Rica'\n",
       "37. 'Croatia'\n",
       "38. 'Cuba'\n",
       "39. 'Cyprus[d]'\n",
       "40. 'Czechia'\n",
       "41. 'Denmark[e]'\n",
       "42. 'Djibouti'\n",
       "43. 'Dominica'\n",
       "44. 'Dominican Republic'\n",
       "45. 'DR Congo'\n",
       "46. 'Ecuador'\n",
       "47. 'Egypt'\n",
       "48. 'El Salvador'\n",
       "49. 'Equatorial Guinea'\n",
       "50. 'Estonia'\n",
       "51. 'Eswatini'\n",
       "52. 'Ethiopia'\n",
       "53. 'Faroe Islands'\n",
       "54. 'Fiji'\n",
       "55. 'Finland'\n",
       "56. 'France[f][g]'\n",
       "57. 'Gabon'\n",
       "58. 'Gambia'\n",
       "59. 'Georgia[h]'\n",
       "60. 'Germany'\n",
       "61. 'Ghana'\n",
       "62. 'Greece'\n",
       "63. 'Greenland'\n",
       "64. 'Grenada'\n",
       "65. 'Guatemala'\n",
       "66. 'Guinea'\n",
       "67. 'Guinea-Bissau'\n",
       "68. 'Guyana'\n",
       "69. 'Haiti'\n",
       "70. 'Honduras'\n",
       "71. 'Hungary'\n",
       "72. 'Iceland'\n",
       "73. 'India'\n",
       "74. 'Indonesia'\n",
       "75. 'Iran'\n",
       "76. 'Iraq'\n",
       "77. 'Ireland'\n",
       "78. 'Israel'\n",
       "79. 'Italy'\n",
       "80. 'Ivory Coast'\n",
       "81. 'Jamaica'\n",
       "82. 'Japan'\n",
       "83. 'Jordan'\n",
       "84. 'Kazakhstan'\n",
       "85. 'Kenya'\n",
       "86. 'Kosovo'\n",
       "87. 'Kuwait'\n",
       "88. 'Kyrgyzstan'\n",
       "89. 'Laos'\n",
       "90. 'Latvia'\n",
       "91. 'Lebanon'\n",
       "92. 'Lesotho'\n",
       "93. 'Liberia'\n",
       "94. 'Libya'\n",
       "95. 'Lithuania'\n",
       "96. 'Luxembourg[i]'\n",
       "97. 'Madagascar'\n",
       "98. 'Malawi'\n",
       "99. 'Malaysia'\n",
       "100. 'Maldives'\n",
       "101. 'Mali'\n",
       "102. 'Malta'\n",
       "103. 'Mauritania'\n",
       "104. 'Mauritius'\n",
       "105. 'Mexico'\n",
       "106. 'Moldova[j]'\n",
       "107. 'Mongolia'\n",
       "108. 'Montenegro'\n",
       "109. 'Morocco'\n",
       "110. 'Mozambique'\n",
       "111. 'Myanmar'\n",
       "112. 'Namibia'\n",
       "113. 'Nepal'\n",
       "114. 'Netherlands'\n",
       "115. 'New Caledonia'\n",
       "116. 'New Zealand'\n",
       "117. 'Niger'\n",
       "118. 'Nigeria'\n",
       "119. 'North Korea'\n",
       "120. 'North Macedonia'\n",
       "121. 'Northern Cyprus[k]'\n",
       "122. 'Norway'\n",
       "123. 'Oman'\n",
       "124. 'Pakistan'\n",
       "125. 'Palestine'\n",
       "126. 'Panama'\n",
       "127. 'Papua New Guinea'\n",
       "128. 'Paraguay'\n",
       "129. 'Peru'\n",
       "130. 'Philippines'\n",
       "131. 'Poland'\n",
       "132. 'Portugal'\n",
       "133. 'Qatar'\n",
       "134. 'Romania'\n",
       "135. 'Russia'\n",
       "136. 'Rwanda'\n",
       "137. 'Saint Kitts and Nevis'\n",
       "138. 'Saint Lucia'\n",
       "139. 'Saint Vincent'\n",
       "140. 'San Marino'\n",
       "141. 'Saudi Arabia'\n",
       "142. 'Senegal'\n",
       "143. 'Serbia'\n",
       "144. 'Singapore'\n",
       "145. 'Slovakia'\n",
       "146. 'Slovenia'\n",
       "147. 'South Africa'\n",
       "148. 'South Korea'\n",
       "149. 'South Sudan'\n",
       "150. 'Spain'\n",
       "151. 'Sri Lanka'\n",
       "152. 'Sudan'\n",
       "153. 'Sweden'\n",
       "154. 'Switzerland[l]'\n",
       "155. 'Taiwan[m]'\n",
       "156. 'Tanzania'\n",
       "157. 'Thailand'\n",
       "158. 'Togo'\n",
       "159. 'Trinidad and Tobago'\n",
       "160. 'Tunisia'\n",
       "161. 'Turkey'\n",
       "162. 'Uganda'\n",
       "163. 'Ukraine'\n",
       "164. 'United Arab Emirates'\n",
       "165. 'United Kingdom'\n",
       "166. 'United States'\n",
       "167. 'Uruguay'\n",
       "168. 'Uzbekistan'\n",
       "169. 'Venezuela'\n",
       "170. 'Vietnam'\n",
       "171. 'Zambia'\n",
       "172. 'Zimbabwe'\n",
       "\n",
       "\n"
      ],
      "text/plain": [
       "  [1] Afghanistan            Albania                Algeria               \n",
       "  [4] Andorra                Angola                 Antigua and Barbuda   \n",
       "  [7] Argentina              Armenia                Australia             \n",
       " [10] Austria                Azerbaijan             Bahamas               \n",
       " [13] Bahrain                Bangladesh             Barbados              \n",
       " [16] Belarus                Belgium                Belize                \n",
       " [19] Benin                  Bhutan                 Bolivia               \n",
       " [22] Bosnia and Herzegovina Botswana               Brazil                \n",
       " [25] Brunei                 Bulgaria               Burkina Faso          \n",
       " [28] Burundi                Cambodia               Cameroon              \n",
       " [31] Canada                 Chad                   Chile                 \n",
       " [34] China[c]               Colombia               Costa Rica            \n",
       " [37] Croatia                Cuba                   Cyprus[d]             \n",
       " [40] Czechia                Denmark[e]             Djibouti              \n",
       " [43] Dominica               Dominican Republic     DR Congo              \n",
       " [46] Ecuador                Egypt                  El Salvador           \n",
       " [49] Equatorial Guinea      Estonia                Eswatini              \n",
       " [52] Ethiopia               Faroe Islands          Fiji                  \n",
       " [55] Finland                France[f][g]           Gabon                 \n",
       " [58] Gambia                 Georgia[h]             Germany               \n",
       " [61] Ghana                  Greece                 Greenland             \n",
       " [64] Grenada                Guatemala              Guinea                \n",
       " [67] Guinea-Bissau          Guyana                 Haiti                 \n",
       " [70] Honduras               Hungary                Iceland               \n",
       " [73] India                  Indonesia              Iran                  \n",
       " [76] Iraq                   Ireland                Israel                \n",
       " [79] Italy                  Ivory Coast            Jamaica               \n",
       " [82] Japan                  Jordan                 Kazakhstan            \n",
       " [85] Kenya                  Kosovo                 Kuwait                \n",
       " [88] Kyrgyzstan             Laos                   Latvia                \n",
       " [91] Lebanon                Lesotho                Liberia               \n",
       " [94] Libya                  Lithuania              Luxembourg[i]         \n",
       " [97] Madagascar             Malawi                 Malaysia              \n",
       "[100] Maldives               Mali                   Malta                 \n",
       "[103] Mauritania             Mauritius              Mexico                \n",
       "[106] Moldova[j]             Mongolia               Montenegro            \n",
       "[109] Morocco                Mozambique             Myanmar               \n",
       "[112] Namibia                Nepal                  Netherlands           \n",
       "[115] New Caledonia          New Zealand            Niger                 \n",
       "[118] Nigeria                North Korea            North Macedonia       \n",
       "[121] Northern Cyprus[k]     Norway                 Oman                  \n",
       "[124] Pakistan               Palestine              Panama                \n",
       "[127] Papua New Guinea       Paraguay               Peru                  \n",
       "[130] Philippines            Poland                 Portugal              \n",
       "[133] Qatar                  Romania                Russia                \n",
       "[136] Rwanda                 Saint Kitts and Nevis  Saint Lucia           \n",
       "[139] Saint Vincent          San Marino             Saudi Arabia          \n",
       "[142] Senegal                Serbia                 Singapore             \n",
       "[145] Slovakia               Slovenia               South Africa          \n",
       "[148] South Korea            South Sudan            Spain                 \n",
       "[151] Sri Lanka              Sudan                  Sweden                \n",
       "[154] Switzerland[l]         Taiwan[m]              Tanzania              \n",
       "[157] Thailand               Togo                   Trinidad and Tobago   \n",
       "[160] Tunisia                Turkey                 Uganda                \n",
       "[163] Ukraine                United Arab Emirates   United Kingdom        \n",
       "[166] United States          Uruguay                Uzbekistan            \n",
       "[169] Venezuela              Vietnam                Zambia                \n",
       "[172] Zimbabwe              \n",
       "172 Levels: Afghanistan Albania Algeria Andorra Angola ... Zimbabwe"
      ]
     },
     "metadata": {},
     "output_type": "display_data"
    },
    {
     "data": {
      "text/html": [
       "'factor'"
      ],
      "text/latex": [
       "'factor'"
      ],
      "text/markdown": [
       "'factor'"
      ],
      "text/plain": [
       "[1] \"factor\""
      ]
     },
     "metadata": {},
     "output_type": "display_data"
    },
    {
     "data": {
      "text/html": [
       "'character'"
      ],
      "text/latex": [
       "'character'"
      ],
      "text/markdown": [
       "'character'"
      ],
      "text/plain": [
       "[1] \"character\""
      ]
     },
     "metadata": {},
     "output_type": "display_data"
    },
    {
     "data": {
      "text/html": [
       "<style>\n",
       ".list-inline {list-style: none; margin:0; padding: 0}\n",
       ".list-inline>li {display: inline-block}\n",
       ".list-inline>li:not(:last-child)::after {content: \"\\00b7\"; padding: 0 .5ex}\n",
       "</style>\n",
       "<ol class=list-inline><li>'Afghanistan'</li><li>'Albania'</li><li>'Algeria'</li><li>'Andorra'</li><li>'Angola'</li><li>'Antigua and Barbuda'</li><li>'Argentina'</li><li>'Armenia'</li><li>'Australia'</li><li>'Austria'</li><li>'Azerbaijan'</li><li>'Bahamas'</li><li>'Bahrain'</li><li>'Bangladesh'</li><li>'Barbados'</li><li>'Belarus'</li><li>'Belgium'</li><li>'Belize'</li><li>'Benin'</li><li>'Bhutan'</li><li>'Bolivia'</li><li>'Bosnia and Herzegovina'</li><li>'Botswana'</li><li>'Brazil'</li><li>'Brunei'</li><li>'Bulgaria'</li><li>'Burkina Faso'</li><li>'Burundi'</li><li>'Cambodia'</li><li>'Cameroon'</li><li>'Canada'</li><li>'Chad'</li><li>'Chile'</li><li>'China[c]'</li><li>'Colombia'</li><li>'Costa Rica'</li><li>'Croatia'</li><li>'Cuba'</li><li>'Cyprus[d]'</li><li>'Czechia'</li><li>'Denmark[e]'</li><li>'Djibouti'</li><li>'Dominica'</li><li>'Dominican Republic'</li><li>'DR Congo'</li><li>'Ecuador'</li><li>'Egypt'</li><li>'El Salvador'</li><li>'Equatorial Guinea'</li><li>'Estonia'</li><li>'Eswatini'</li><li>'Ethiopia'</li><li>'Faroe Islands'</li><li>'Fiji'</li><li>'Finland'</li><li>'France[f][g]'</li><li>'Gabon'</li><li>'Gambia'</li><li>'Georgia[h]'</li><li>'Germany'</li><li>'Ghana'</li><li>'Greece'</li><li>'Greenland'</li><li>'Grenada'</li><li>'Guatemala'</li><li>'Guinea'</li><li>'Guinea-Bissau'</li><li>'Guyana'</li><li>'Haiti'</li><li>'Honduras'</li><li>'Hungary'</li><li>'Iceland'</li><li>'India'</li><li>'Indonesia'</li><li>'Iran'</li><li>'Iraq'</li><li>'Ireland'</li><li>'Israel'</li><li>'Italy'</li><li>'Ivory Coast'</li><li>'Jamaica'</li><li>'Japan'</li><li>'Jordan'</li><li>'Kazakhstan'</li><li>'Kenya'</li><li>'Kosovo'</li><li>'Kuwait'</li><li>'Kyrgyzstan'</li><li>'Laos'</li><li>'Latvia'</li><li>'Lebanon'</li><li>'Lesotho'</li><li>'Liberia'</li><li>'Libya'</li><li>'Lithuania'</li><li>'Luxembourg[i]'</li><li>'Madagascar'</li><li>'Malawi'</li><li>'Malaysia'</li><li>'Maldives'</li><li>'Mali'</li><li>'Malta'</li><li>'Mauritania'</li><li>'Mauritius'</li><li>'Mexico'</li><li>'Moldova[j]'</li><li>'Mongolia'</li><li>'Montenegro'</li><li>'Morocco'</li><li>'Mozambique'</li><li>'Myanmar'</li><li>'Namibia'</li><li>'Nepal'</li><li>'Netherlands'</li><li>'New Caledonia'</li><li>'New Zealand'</li><li>'Niger'</li><li>'Nigeria'</li><li>'North Korea'</li><li>'North Macedonia'</li><li>'Northern Cyprus[k]'</li><li>'Norway'</li><li>'Oman'</li><li>'Pakistan'</li><li>'Palestine'</li><li>'Panama'</li><li>'Papua New Guinea'</li><li>'Paraguay'</li><li>'Peru'</li><li>'Philippines'</li><li>'Poland'</li><li>'Portugal'</li><li>'Qatar'</li><li>'Romania'</li><li>'Russia'</li><li>'Rwanda'</li><li>'Saint Kitts and Nevis'</li><li>'Saint Lucia'</li><li>'Saint Vincent'</li><li>'San Marino'</li><li>'Saudi Arabia'</li><li>'Senegal'</li><li>'Serbia'</li><li>'Singapore'</li><li>'Slovakia'</li><li>'Slovenia'</li><li>'South Africa'</li><li>'South Korea'</li><li>'South Sudan'</li><li>'Spain'</li><li>'Sri Lanka'</li><li>'Sudan'</li><li>'Sweden'</li><li>'Switzerland[l]'</li><li>'Taiwan[m]'</li><li>'Tanzania'</li><li>'Thailand'</li><li>'Togo'</li><li>'Trinidad and Tobago'</li><li>'Tunisia'</li><li>'Turkey'</li><li>'Uganda'</li><li>'Ukraine'</li><li>'United Arab Emirates'</li><li>'United Kingdom'</li><li>'United States'</li><li>'Uruguay'</li><li>'Uzbekistan'</li><li>'Venezuela'</li><li>'Vietnam'</li><li>'Zambia'</li><li>'Zimbabwe'</li></ol>\n"
      ],
      "text/latex": [
       "\\begin{enumerate*}\n",
       "\\item 'Afghanistan'\n",
       "\\item 'Albania'\n",
       "\\item 'Algeria'\n",
       "\\item 'Andorra'\n",
       "\\item 'Angola'\n",
       "\\item 'Antigua and Barbuda'\n",
       "\\item 'Argentina'\n",
       "\\item 'Armenia'\n",
       "\\item 'Australia'\n",
       "\\item 'Austria'\n",
       "\\item 'Azerbaijan'\n",
       "\\item 'Bahamas'\n",
       "\\item 'Bahrain'\n",
       "\\item 'Bangladesh'\n",
       "\\item 'Barbados'\n",
       "\\item 'Belarus'\n",
       "\\item 'Belgium'\n",
       "\\item 'Belize'\n",
       "\\item 'Benin'\n",
       "\\item 'Bhutan'\n",
       "\\item 'Bolivia'\n",
       "\\item 'Bosnia and Herzegovina'\n",
       "\\item 'Botswana'\n",
       "\\item 'Brazil'\n",
       "\\item 'Brunei'\n",
       "\\item 'Bulgaria'\n",
       "\\item 'Burkina Faso'\n",
       "\\item 'Burundi'\n",
       "\\item 'Cambodia'\n",
       "\\item 'Cameroon'\n",
       "\\item 'Canada'\n",
       "\\item 'Chad'\n",
       "\\item 'Chile'\n",
       "\\item 'China{[}c{]}'\n",
       "\\item 'Colombia'\n",
       "\\item 'Costa Rica'\n",
       "\\item 'Croatia'\n",
       "\\item 'Cuba'\n",
       "\\item 'Cyprus{[}d{]}'\n",
       "\\item 'Czechia'\n",
       "\\item 'Denmark{[}e{]}'\n",
       "\\item 'Djibouti'\n",
       "\\item 'Dominica'\n",
       "\\item 'Dominican Republic'\n",
       "\\item 'DR Congo'\n",
       "\\item 'Ecuador'\n",
       "\\item 'Egypt'\n",
       "\\item 'El Salvador'\n",
       "\\item 'Equatorial Guinea'\n",
       "\\item 'Estonia'\n",
       "\\item 'Eswatini'\n",
       "\\item 'Ethiopia'\n",
       "\\item 'Faroe Islands'\n",
       "\\item 'Fiji'\n",
       "\\item 'Finland'\n",
       "\\item 'France{[}f{]}{[}g{]}'\n",
       "\\item 'Gabon'\n",
       "\\item 'Gambia'\n",
       "\\item 'Georgia{[}h{]}'\n",
       "\\item 'Germany'\n",
       "\\item 'Ghana'\n",
       "\\item 'Greece'\n",
       "\\item 'Greenland'\n",
       "\\item 'Grenada'\n",
       "\\item 'Guatemala'\n",
       "\\item 'Guinea'\n",
       "\\item 'Guinea-Bissau'\n",
       "\\item 'Guyana'\n",
       "\\item 'Haiti'\n",
       "\\item 'Honduras'\n",
       "\\item 'Hungary'\n",
       "\\item 'Iceland'\n",
       "\\item 'India'\n",
       "\\item 'Indonesia'\n",
       "\\item 'Iran'\n",
       "\\item 'Iraq'\n",
       "\\item 'Ireland'\n",
       "\\item 'Israel'\n",
       "\\item 'Italy'\n",
       "\\item 'Ivory Coast'\n",
       "\\item 'Jamaica'\n",
       "\\item 'Japan'\n",
       "\\item 'Jordan'\n",
       "\\item 'Kazakhstan'\n",
       "\\item 'Kenya'\n",
       "\\item 'Kosovo'\n",
       "\\item 'Kuwait'\n",
       "\\item 'Kyrgyzstan'\n",
       "\\item 'Laos'\n",
       "\\item 'Latvia'\n",
       "\\item 'Lebanon'\n",
       "\\item 'Lesotho'\n",
       "\\item 'Liberia'\n",
       "\\item 'Libya'\n",
       "\\item 'Lithuania'\n",
       "\\item 'Luxembourg{[}i{]}'\n",
       "\\item 'Madagascar'\n",
       "\\item 'Malawi'\n",
       "\\item 'Malaysia'\n",
       "\\item 'Maldives'\n",
       "\\item 'Mali'\n",
       "\\item 'Malta'\n",
       "\\item 'Mauritania'\n",
       "\\item 'Mauritius'\n",
       "\\item 'Mexico'\n",
       "\\item 'Moldova{[}j{]}'\n",
       "\\item 'Mongolia'\n",
       "\\item 'Montenegro'\n",
       "\\item 'Morocco'\n",
       "\\item 'Mozambique'\n",
       "\\item 'Myanmar'\n",
       "\\item 'Namibia'\n",
       "\\item 'Nepal'\n",
       "\\item 'Netherlands'\n",
       "\\item 'New Caledonia'\n",
       "\\item 'New Zealand'\n",
       "\\item 'Niger'\n",
       "\\item 'Nigeria'\n",
       "\\item 'North Korea'\n",
       "\\item 'North Macedonia'\n",
       "\\item 'Northern Cyprus{[}k{]}'\n",
       "\\item 'Norway'\n",
       "\\item 'Oman'\n",
       "\\item 'Pakistan'\n",
       "\\item 'Palestine'\n",
       "\\item 'Panama'\n",
       "\\item 'Papua New Guinea'\n",
       "\\item 'Paraguay'\n",
       "\\item 'Peru'\n",
       "\\item 'Philippines'\n",
       "\\item 'Poland'\n",
       "\\item 'Portugal'\n",
       "\\item 'Qatar'\n",
       "\\item 'Romania'\n",
       "\\item 'Russia'\n",
       "\\item 'Rwanda'\n",
       "\\item 'Saint Kitts and Nevis'\n",
       "\\item 'Saint Lucia'\n",
       "\\item 'Saint Vincent'\n",
       "\\item 'San Marino'\n",
       "\\item 'Saudi Arabia'\n",
       "\\item 'Senegal'\n",
       "\\item 'Serbia'\n",
       "\\item 'Singapore'\n",
       "\\item 'Slovakia'\n",
       "\\item 'Slovenia'\n",
       "\\item 'South Africa'\n",
       "\\item 'South Korea'\n",
       "\\item 'South Sudan'\n",
       "\\item 'Spain'\n",
       "\\item 'Sri Lanka'\n",
       "\\item 'Sudan'\n",
       "\\item 'Sweden'\n",
       "\\item 'Switzerland{[}l{]}'\n",
       "\\item 'Taiwan{[}m{]}'\n",
       "\\item 'Tanzania'\n",
       "\\item 'Thailand'\n",
       "\\item 'Togo'\n",
       "\\item 'Trinidad and Tobago'\n",
       "\\item 'Tunisia'\n",
       "\\item 'Turkey'\n",
       "\\item 'Uganda'\n",
       "\\item 'Ukraine'\n",
       "\\item 'United Arab Emirates'\n",
       "\\item 'United Kingdom'\n",
       "\\item 'United States'\n",
       "\\item 'Uruguay'\n",
       "\\item 'Uzbekistan'\n",
       "\\item 'Venezuela'\n",
       "\\item 'Vietnam'\n",
       "\\item 'Zambia'\n",
       "\\item 'Zimbabwe'\n",
       "\\end{enumerate*}\n"
      ],
      "text/markdown": [
       "1. 'Afghanistan'\n",
       "2. 'Albania'\n",
       "3. 'Algeria'\n",
       "4. 'Andorra'\n",
       "5. 'Angola'\n",
       "6. 'Antigua and Barbuda'\n",
       "7. 'Argentina'\n",
       "8. 'Armenia'\n",
       "9. 'Australia'\n",
       "10. 'Austria'\n",
       "11. 'Azerbaijan'\n",
       "12. 'Bahamas'\n",
       "13. 'Bahrain'\n",
       "14. 'Bangladesh'\n",
       "15. 'Barbados'\n",
       "16. 'Belarus'\n",
       "17. 'Belgium'\n",
       "18. 'Belize'\n",
       "19. 'Benin'\n",
       "20. 'Bhutan'\n",
       "21. 'Bolivia'\n",
       "22. 'Bosnia and Herzegovina'\n",
       "23. 'Botswana'\n",
       "24. 'Brazil'\n",
       "25. 'Brunei'\n",
       "26. 'Bulgaria'\n",
       "27. 'Burkina Faso'\n",
       "28. 'Burundi'\n",
       "29. 'Cambodia'\n",
       "30. 'Cameroon'\n",
       "31. 'Canada'\n",
       "32. 'Chad'\n",
       "33. 'Chile'\n",
       "34. 'China[c]'\n",
       "35. 'Colombia'\n",
       "36. 'Costa Rica'\n",
       "37. 'Croatia'\n",
       "38. 'Cuba'\n",
       "39. 'Cyprus[d]'\n",
       "40. 'Czechia'\n",
       "41. 'Denmark[e]'\n",
       "42. 'Djibouti'\n",
       "43. 'Dominica'\n",
       "44. 'Dominican Republic'\n",
       "45. 'DR Congo'\n",
       "46. 'Ecuador'\n",
       "47. 'Egypt'\n",
       "48. 'El Salvador'\n",
       "49. 'Equatorial Guinea'\n",
       "50. 'Estonia'\n",
       "51. 'Eswatini'\n",
       "52. 'Ethiopia'\n",
       "53. 'Faroe Islands'\n",
       "54. 'Fiji'\n",
       "55. 'Finland'\n",
       "56. 'France[f][g]'\n",
       "57. 'Gabon'\n",
       "58. 'Gambia'\n",
       "59. 'Georgia[h]'\n",
       "60. 'Germany'\n",
       "61. 'Ghana'\n",
       "62. 'Greece'\n",
       "63. 'Greenland'\n",
       "64. 'Grenada'\n",
       "65. 'Guatemala'\n",
       "66. 'Guinea'\n",
       "67. 'Guinea-Bissau'\n",
       "68. 'Guyana'\n",
       "69. 'Haiti'\n",
       "70. 'Honduras'\n",
       "71. 'Hungary'\n",
       "72. 'Iceland'\n",
       "73. 'India'\n",
       "74. 'Indonesia'\n",
       "75. 'Iran'\n",
       "76. 'Iraq'\n",
       "77. 'Ireland'\n",
       "78. 'Israel'\n",
       "79. 'Italy'\n",
       "80. 'Ivory Coast'\n",
       "81. 'Jamaica'\n",
       "82. 'Japan'\n",
       "83. 'Jordan'\n",
       "84. 'Kazakhstan'\n",
       "85. 'Kenya'\n",
       "86. 'Kosovo'\n",
       "87. 'Kuwait'\n",
       "88. 'Kyrgyzstan'\n",
       "89. 'Laos'\n",
       "90. 'Latvia'\n",
       "91. 'Lebanon'\n",
       "92. 'Lesotho'\n",
       "93. 'Liberia'\n",
       "94. 'Libya'\n",
       "95. 'Lithuania'\n",
       "96. 'Luxembourg[i]'\n",
       "97. 'Madagascar'\n",
       "98. 'Malawi'\n",
       "99. 'Malaysia'\n",
       "100. 'Maldives'\n",
       "101. 'Mali'\n",
       "102. 'Malta'\n",
       "103. 'Mauritania'\n",
       "104. 'Mauritius'\n",
       "105. 'Mexico'\n",
       "106. 'Moldova[j]'\n",
       "107. 'Mongolia'\n",
       "108. 'Montenegro'\n",
       "109. 'Morocco'\n",
       "110. 'Mozambique'\n",
       "111. 'Myanmar'\n",
       "112. 'Namibia'\n",
       "113. 'Nepal'\n",
       "114. 'Netherlands'\n",
       "115. 'New Caledonia'\n",
       "116. 'New Zealand'\n",
       "117. 'Niger'\n",
       "118. 'Nigeria'\n",
       "119. 'North Korea'\n",
       "120. 'North Macedonia'\n",
       "121. 'Northern Cyprus[k]'\n",
       "122. 'Norway'\n",
       "123. 'Oman'\n",
       "124. 'Pakistan'\n",
       "125. 'Palestine'\n",
       "126. 'Panama'\n",
       "127. 'Papua New Guinea'\n",
       "128. 'Paraguay'\n",
       "129. 'Peru'\n",
       "130. 'Philippines'\n",
       "131. 'Poland'\n",
       "132. 'Portugal'\n",
       "133. 'Qatar'\n",
       "134. 'Romania'\n",
       "135. 'Russia'\n",
       "136. 'Rwanda'\n",
       "137. 'Saint Kitts and Nevis'\n",
       "138. 'Saint Lucia'\n",
       "139. 'Saint Vincent'\n",
       "140. 'San Marino'\n",
       "141. 'Saudi Arabia'\n",
       "142. 'Senegal'\n",
       "143. 'Serbia'\n",
       "144. 'Singapore'\n",
       "145. 'Slovakia'\n",
       "146. 'Slovenia'\n",
       "147. 'South Africa'\n",
       "148. 'South Korea'\n",
       "149. 'South Sudan'\n",
       "150. 'Spain'\n",
       "151. 'Sri Lanka'\n",
       "152. 'Sudan'\n",
       "153. 'Sweden'\n",
       "154. 'Switzerland[l]'\n",
       "155. 'Taiwan[m]'\n",
       "156. 'Tanzania'\n",
       "157. 'Thailand'\n",
       "158. 'Togo'\n",
       "159. 'Trinidad and Tobago'\n",
       "160. 'Tunisia'\n",
       "161. 'Turkey'\n",
       "162. 'Uganda'\n",
       "163. 'Ukraine'\n",
       "164. 'United Arab Emirates'\n",
       "165. 'United Kingdom'\n",
       "166. 'United States'\n",
       "167. 'Uruguay'\n",
       "168. 'Uzbekistan'\n",
       "169. 'Venezuela'\n",
       "170. 'Vietnam'\n",
       "171. 'Zambia'\n",
       "172. 'Zimbabwe'\n",
       "\n",
       "\n"
      ],
      "text/plain": [
       "  [1] \"Afghanistan\"            \"Albania\"                \"Algeria\"               \n",
       "  [4] \"Andorra\"                \"Angola\"                 \"Antigua and Barbuda\"   \n",
       "  [7] \"Argentina\"              \"Armenia\"                \"Australia\"             \n",
       " [10] \"Austria\"                \"Azerbaijan\"             \"Bahamas\"               \n",
       " [13] \"Bahrain\"                \"Bangladesh\"             \"Barbados\"              \n",
       " [16] \"Belarus\"                \"Belgium\"                \"Belize\"                \n",
       " [19] \"Benin\"                  \"Bhutan\"                 \"Bolivia\"               \n",
       " [22] \"Bosnia and Herzegovina\" \"Botswana\"               \"Brazil\"                \n",
       " [25] \"Brunei\"                 \"Bulgaria\"               \"Burkina Faso\"          \n",
       " [28] \"Burundi\"                \"Cambodia\"               \"Cameroon\"              \n",
       " [31] \"Canada\"                 \"Chad\"                   \"Chile\"                 \n",
       " [34] \"China[c]\"               \"Colombia\"               \"Costa Rica\"            \n",
       " [37] \"Croatia\"                \"Cuba\"                   \"Cyprus[d]\"             \n",
       " [40] \"Czechia\"                \"Denmark[e]\"             \"Djibouti\"              \n",
       " [43] \"Dominica\"               \"Dominican Republic\"     \"DR Congo\"              \n",
       " [46] \"Ecuador\"                \"Egypt\"                  \"El Salvador\"           \n",
       " [49] \"Equatorial Guinea\"      \"Estonia\"                \"Eswatini\"              \n",
       " [52] \"Ethiopia\"               \"Faroe Islands\"          \"Fiji\"                  \n",
       " [55] \"Finland\"                \"France[f][g]\"           \"Gabon\"                 \n",
       " [58] \"Gambia\"                 \"Georgia[h]\"             \"Germany\"               \n",
       " [61] \"Ghana\"                  \"Greece\"                 \"Greenland\"             \n",
       " [64] \"Grenada\"                \"Guatemala\"              \"Guinea\"                \n",
       " [67] \"Guinea-Bissau\"          \"Guyana\"                 \"Haiti\"                 \n",
       " [70] \"Honduras\"               \"Hungary\"                \"Iceland\"               \n",
       " [73] \"India\"                  \"Indonesia\"              \"Iran\"                  \n",
       " [76] \"Iraq\"                   \"Ireland\"                \"Israel\"                \n",
       " [79] \"Italy\"                  \"Ivory Coast\"            \"Jamaica\"               \n",
       " [82] \"Japan\"                  \"Jordan\"                 \"Kazakhstan\"            \n",
       " [85] \"Kenya\"                  \"Kosovo\"                 \"Kuwait\"                \n",
       " [88] \"Kyrgyzstan\"             \"Laos\"                   \"Latvia\"                \n",
       " [91] \"Lebanon\"                \"Lesotho\"                \"Liberia\"               \n",
       " [94] \"Libya\"                  \"Lithuania\"              \"Luxembourg[i]\"         \n",
       " [97] \"Madagascar\"             \"Malawi\"                 \"Malaysia\"              \n",
       "[100] \"Maldives\"               \"Mali\"                   \"Malta\"                 \n",
       "[103] \"Mauritania\"             \"Mauritius\"              \"Mexico\"                \n",
       "[106] \"Moldova[j]\"             \"Mongolia\"               \"Montenegro\"            \n",
       "[109] \"Morocco\"                \"Mozambique\"             \"Myanmar\"               \n",
       "[112] \"Namibia\"                \"Nepal\"                  \"Netherlands\"           \n",
       "[115] \"New Caledonia\"          \"New Zealand\"            \"Niger\"                 \n",
       "[118] \"Nigeria\"                \"North Korea\"            \"North Macedonia\"       \n",
       "[121] \"Northern Cyprus[k]\"     \"Norway\"                 \"Oman\"                  \n",
       "[124] \"Pakistan\"               \"Palestine\"              \"Panama\"                \n",
       "[127] \"Papua New Guinea\"       \"Paraguay\"               \"Peru\"                  \n",
       "[130] \"Philippines\"            \"Poland\"                 \"Portugal\"              \n",
       "[133] \"Qatar\"                  \"Romania\"                \"Russia\"                \n",
       "[136] \"Rwanda\"                 \"Saint Kitts and Nevis\"  \"Saint Lucia\"           \n",
       "[139] \"Saint Vincent\"          \"San Marino\"             \"Saudi Arabia\"          \n",
       "[142] \"Senegal\"                \"Serbia\"                 \"Singapore\"             \n",
       "[145] \"Slovakia\"               \"Slovenia\"               \"South Africa\"          \n",
       "[148] \"South Korea\"            \"South Sudan\"            \"Spain\"                 \n",
       "[151] \"Sri Lanka\"              \"Sudan\"                  \"Sweden\"                \n",
       "[154] \"Switzerland[l]\"         \"Taiwan[m]\"              \"Tanzania\"              \n",
       "[157] \"Thailand\"               \"Togo\"                   \"Trinidad and Tobago\"   \n",
       "[160] \"Tunisia\"                \"Turkey\"                 \"Uganda\"                \n",
       "[163] \"Ukraine\"                \"United Arab Emirates\"   \"United Kingdom\"        \n",
       "[166] \"United States\"          \"Uruguay\"                \"Uzbekistan\"            \n",
       "[169] \"Venezuela\"              \"Vietnam\"                \"Zambia\"                \n",
       "[172] \"Zimbabwe\"              "
      ]
     },
     "metadata": {},
     "output_type": "display_data"
    },
    {
     "name": "stdout",
     "output_type": "stream",
     "text": [
      "  [1] \"Zimbabwe\"               \"Zambia\"                 \"Vietnam\"               \n",
      "  [4] \"Venezuela\"              \"Uzbekistan\"             \"Uruguay\"               \n",
      "  [7] \"United States\"          \"United Kingdom\"         \"United Arab Emirates\"  \n",
      " [10] \"Ukraine\"                \"Uganda\"                 \"Turkey\"                \n",
      " [13] \"Tunisia\"                \"Trinidad and Tobago\"    \"Togo\"                  \n",
      " [16] \"Thailand\"               \"Tanzania\"               \"Taiwan[m]\"             \n",
      " [19] \"Switzerland[l]\"         \"Sweden\"                 \"Sudan\"                 \n",
      " [22] \"Sri Lanka\"              \"Spain\"                  \"South Sudan\"           \n",
      " [25] \"South Korea\"            \"South Africa\"           \"Slovenia\"              \n",
      " [28] \"Slovakia\"               \"Singapore\"              \"Serbia\"                \n",
      " [31] \"Senegal\"                \"Saudi Arabia\"           \"San Marino\"            \n",
      " [34] \"Saint Vincent\"          \"Saint Lucia\"            \"Saint Kitts and Nevis\" \n",
      " [37] \"Rwanda\"                 \"Russia\"                 \"Romania\"               \n",
      " [40] \"Qatar\"                  \"Portugal\"               \"Poland\"                \n",
      " [43] \"Philippines\"            \"Peru\"                   \"Paraguay\"              \n",
      " [46] \"Papua New Guinea\"       \"Panama\"                 \"Palestine\"             \n",
      " [49] \"Pakistan\"               \"Oman\"                   \"Norway\"                \n",
      " [52] \"Northern Cyprus[k]\"     \"North Macedonia\"        \"North Korea\"           \n",
      " [55] \"Nigeria\"                \"Niger\"                  \"New Zealand\"           \n",
      " [58] \"New Caledonia\"          \"Netherlands\"            \"Nepal\"                 \n",
      " [61] \"Namibia\"                \"Myanmar\"                \"Mozambique\"            \n",
      " [64] \"Morocco\"                \"Montenegro\"             \"Mongolia\"              \n",
      " [67] \"Moldova[j]\"             \"Mexico\"                 \"Mauritius\"             \n",
      " [70] \"Mauritania\"             \"Malta\"                  \"Mali\"                  \n",
      " [73] \"Maldives\"               \"Malaysia\"               \"Malawi\"                \n",
      " [76] \"Madagascar\"             \"Luxembourg[i]\"          \"Lithuania\"             \n",
      " [79] \"Libya\"                  \"Liberia\"                \"Lesotho\"               \n",
      " [82] \"Lebanon\"                \"Latvia\"                 \"Laos\"                  \n",
      " [85] \"Kyrgyzstan\"             \"Kuwait\"                 \"Kosovo\"                \n",
      " [88] \"Kenya\"                  \"Kazakhstan\"             \"Jordan\"                \n",
      " [91] \"Japan\"                  \"Jamaica\"                \"Ivory Coast\"           \n",
      " [94] \"Italy\"                  \"Israel\"                 \"Ireland\"               \n",
      " [97] \"Iraq\"                   \"Iran\"                   \"Indonesia\"             \n",
      "[100] \"India\"                  \"Iceland\"                \"Hungary\"               \n",
      "[103] \"Honduras\"               \"Haiti\"                  \"Guyana\"                \n",
      "[106] \"Guinea-Bissau\"          \"Guinea\"                 \"Guatemala\"             \n",
      "[109] \"Grenada\"                \"Greenland\"              \"Greece\"                \n",
      "[112] \"Ghana\"                  \"Germany\"                \"Georgia[h]\"            \n",
      "[115] \"Gambia\"                 \"Gabon\"                  \"France[f][g]\"          \n",
      "[118] \"Finland\"                \"Fiji\"                   \"Faroe Islands\"         \n",
      "[121] \"Ethiopia\"               \"Eswatini\"               \"Estonia\"               \n",
      "[124] \"Equatorial Guinea\"      \"El Salvador\"            \"Egypt\"                 \n",
      "[127] \"Ecuador\"                \"DR Congo\"               \"Dominican Republic\"    \n",
      "[130] \"Dominica\"               \"Djibouti\"               \"Denmark[e]\"            \n",
      "[133] \"Czechia\"                \"Cyprus[d]\"              \"Cuba\"                  \n",
      "[136] \"Croatia\"                \"Costa Rica\"             \"Colombia\"              \n",
      "[139] \"China[c]\"               \"Chile\"                  \"Chad\"                  \n",
      "[142] \"Canada\"                 \"Cameroon\"               \"Cambodia\"              \n",
      "[145] \"Burundi\"                \"Burkina Faso\"           \"Bulgaria\"              \n",
      "[148] \"Brunei\"                 \"Brazil\"                 \"Botswana\"              \n",
      "[151] \"Bosnia and Herzegovina\" \"Bolivia\"                \"Bhutan\"                \n",
      "[154] \"Benin\"                  \"Belize\"                 \"Belgium\"               \n",
      "[157] \"Belarus\"                \"Barbados\"               \"Bangladesh\"            \n",
      "[160] \"Bahrain\"                \"Bahamas\"                \"Azerbaijan\"            \n",
      "[163] \"Austria\"                \"Australia\"              \"Armenia\"               \n",
      "[166] \"Argentina\"              \"Antigua and Barbuda\"    \"Angola\"                \n",
      "[169] \"Andorra\"                \"Algeria\"                \"Albania\"               \n",
      "[172] \"Afghanistan\"           \n"
     ]
    }
   ],
   "source": [
    "# Get the `country` column\n",
    "covid_data[,'country']\n",
    "# Check its class (should be Factor)\n",
    "class(covid_data$country)\n",
    "# Convert the country column into character so that you can easily sort them\n",
    "covid_data$country <- as.character(covid_data$country)\n",
    "class(covid_data$country)\n",
    "# Sort the countries AtoZ\n",
    "sort(covid_data$country)\n",
    "# Sort the countries ZtoA\n",
    "ztoa_country <- sort(covid_data$country, decreasing=TRUE)\n",
    "# Print the sorted ZtoA list\n",
    "print(ztoa_country)"
   ]
  },
  {
   "cell_type": "markdown",
   "metadata": {},
   "source": [
    "## TASK 7: Identify countries names with a specific pattern\n",
    "\n",
    "The goal of task 7 is using a regular expression to find any countires start with `United`\n"
   ]
  },
  {
   "cell_type": "code",
   "execution_count": 18,
   "metadata": {
    "tags": []
   },
   "outputs": [
    {
     "data": {
      "text/html": [
       "<style>\n",
       ".list-inline {list-style: none; margin:0; padding: 0}\n",
       ".list-inline>li {display: inline-block}\n",
       ".list-inline>li:not(:last-child)::after {content: \"\\00b7\"; padding: 0 .5ex}\n",
       "</style>\n",
       "<ol class=list-inline><li>'United Arab Emirates'</li><li>'United Kingdom'</li><li>'United States'</li></ol>\n"
      ],
      "text/latex": [
       "\\begin{enumerate*}\n",
       "\\item 'United Arab Emirates'\n",
       "\\item 'United Kingdom'\n",
       "\\item 'United States'\n",
       "\\end{enumerate*}\n"
      ],
      "text/markdown": [
       "1. 'United Arab Emirates'\n",
       "2. 'United Kingdom'\n",
       "3. 'United States'\n",
       "\n",
       "\n"
      ],
      "text/plain": [
       "[1] \"United Arab Emirates\" \"United Kingdom\"       \"United States\"       "
      ]
     },
     "metadata": {},
     "output_type": "display_data"
    }
   ],
   "source": [
    "# Use a regular expression `United.+` to find matches\n",
    "country_matches <- regexpr('United.+', covid_data$country)\n",
    "\n",
    "# Print the matched country names\n",
    "regmatches(covid_data$country, country_matches)"
   ]
  },
  {
   "cell_type": "markdown",
   "metadata": {},
   "source": [
    "## TASK 8: Pick two countries you are interested, and then review their testing data\n",
    "\n",
    "The goal of task 8 is to compare the COVID-19 test data between two countires, you will need to select two rows from the dataframe, and select `country`, `confirmed`, `confirmed-population-ratio` columns\n"
   ]
  },
  {
   "cell_type": "code",
   "execution_count": 19,
   "metadata": {
    "tags": []
   },
   "outputs": [
    {
     "data": {
      "text/html": [
       "<table>\n",
       "<caption>A data.frame: 1 × 4</caption>\n",
       "<thead>\n",
       "\t<tr><th></th><th scope=col>country</th><th scope=col>tested</th><th scope=col>confirmed</th><th scope=col>confirmed.population.ratio</th></tr>\n",
       "\t<tr><th></th><th scope=col>&lt;chr&gt;</th><th scope=col>&lt;dbl&gt;</th><th scope=col>&lt;int&gt;</th><th scope=col>&lt;dbl&gt;</th></tr>\n",
       "</thead>\n",
       "<tbody>\n",
       "\t<tr><th scope=row>73</th><td>India</td><td>866177937</td><td>43585554</td><td>31.7</td></tr>\n",
       "</tbody>\n",
       "</table>\n"
      ],
      "text/latex": [
       "A data.frame: 1 × 4\n",
       "\\begin{tabular}{r|llll}\n",
       "  & country & tested & confirmed & confirmed.population.ratio\\\\\n",
       "  & <chr> & <dbl> & <int> & <dbl>\\\\\n",
       "\\hline\n",
       "\t73 & India & 866177937 & 43585554 & 31.7\\\\\n",
       "\\end{tabular}\n"
      ],
      "text/markdown": [
       "\n",
       "A data.frame: 1 × 4\n",
       "\n",
       "| <!--/--> | country &lt;chr&gt; | tested &lt;dbl&gt; | confirmed &lt;int&gt; | confirmed.population.ratio &lt;dbl&gt; |\n",
       "|---|---|---|---|---|\n",
       "| 73 | India | 866177937 | 43585554 | 31.7 |\n",
       "\n"
      ],
      "text/plain": [
       "   country tested    confirmed confirmed.population.ratio\n",
       "73 India   866177937 43585554  31.7                      "
      ]
     },
     "metadata": {},
     "output_type": "display_data"
    },
    {
     "data": {
      "text/html": [
       "<table>\n",
       "<caption>A data.frame: 1 × 4</caption>\n",
       "<thead>\n",
       "\t<tr><th></th><th scope=col>country</th><th scope=col>tested</th><th scope=col>confirmed</th><th scope=col>confirmed.population.ratio</th></tr>\n",
       "\t<tr><th></th><th scope=col>&lt;chr&gt;</th><th scope=col>&lt;dbl&gt;</th><th scope=col>&lt;int&gt;</th><th scope=col>&lt;dbl&gt;</th></tr>\n",
       "</thead>\n",
       "<tbody>\n",
       "\t<tr><th scope=row>166</th><td>United States</td><td>929349291</td><td>90749469</td><td>27.4</td></tr>\n",
       "</tbody>\n",
       "</table>\n"
      ],
      "text/latex": [
       "A data.frame: 1 × 4\n",
       "\\begin{tabular}{r|llll}\n",
       "  & country & tested & confirmed & confirmed.population.ratio\\\\\n",
       "  & <chr> & <dbl> & <int> & <dbl>\\\\\n",
       "\\hline\n",
       "\t166 & United States & 929349291 & 90749469 & 27.4\\\\\n",
       "\\end{tabular}\n"
      ],
      "text/markdown": [
       "\n",
       "A data.frame: 1 × 4\n",
       "\n",
       "| <!--/--> | country &lt;chr&gt; | tested &lt;dbl&gt; | confirmed &lt;int&gt; | confirmed.population.ratio &lt;dbl&gt; |\n",
       "|---|---|---|---|---|\n",
       "| 166 | United States | 929349291 | 90749469 | 27.4 |\n",
       "\n"
      ],
      "text/plain": [
       "    country       tested    confirmed confirmed.population.ratio\n",
       "166 United States 929349291 90749469  27.4                      "
      ]
     },
     "metadata": {},
     "output_type": "display_data"
    }
   ],
   "source": [
    "# Select a subset (should be only one row) of data frame based on a selected country name and columns\n",
    "india <- covid_data[covid_data$country=='India',c('country','tested','confirmed','confirmed.population.ratio')]\n",
    "india\n",
    "# Select a subset (should be only one row) of data frame based on a selected country name and columns\n",
    "usa <- covid_data[covid_data$country=='United States',c('country','tested','confirmed','confirmed.population.ratio')]\n",
    "usa"
   ]
  },
  {
   "cell_type": "code",
   "execution_count": 20,
   "metadata": {
    "tags": []
   },
   "outputs": [
    {
     "data": {
      "text/html": [
       "FALSE"
      ],
      "text/latex": [
       "FALSE"
      ],
      "text/markdown": [
       "FALSE"
      ],
      "text/plain": [
       "[1] FALSE"
      ]
     },
     "metadata": {},
     "output_type": "display_data"
    },
    {
     "data": {
      "text/html": [
       "FALSE"
      ],
      "text/latex": [
       "FALSE"
      ],
      "text/markdown": [
       "FALSE"
      ],
      "text/plain": [
       "[1] FALSE"
      ]
     },
     "metadata": {},
     "output_type": "display_data"
    }
   ],
   "source": [
    "#difference in testing\n",
    "india$tested > usa$tested\n",
    "#difference in confirmed\n",
    "india$confirmed > usa$confirmed"
   ]
  },
  {
   "cell_type": "markdown",
   "metadata": {},
   "source": [
    "According to data India has tested less than USA and India  has less confirmed cases."
   ]
  },
  {
   "cell_type": "markdown",
   "metadata": {},
   "source": [
    "## TASK 9: Compare which one of the selected countries has a larger ratio of confirmed cases to population\n",
    "\n",
    "The goal of task 9 is to find out which country you have selected before has larger ratio of confirmed cases to population, which may indicate that country has higher COVID-19 infection risk\n"
   ]
  },
  {
   "cell_type": "code",
   "execution_count": 21,
   "metadata": {
    "tags": []
   },
   "outputs": [
    {
     "name": "stdout",
     "output_type": "stream",
     "text": [
      "[1] \"According to data India has higher covid-19 infection risk as compared to USA\"\n"
     ]
    }
   ],
   "source": [
    "# Use if-else statement\n",
    "if (usa$confirmed.population.ratio > india$confirmed.population.ratio) {\n",
    "   print('According to data USA higher covid-19 infection risk as compared to India')\n",
    "} else {\n",
    "   print('According to data India has higher covid-19 infection risk as compared to USA')\n",
    "}\n"
   ]
  },
  {
   "cell_type": "markdown",
   "metadata": {},
   "source": [
    "## TASK 10: Find countries with confirmed to population ratio rate less than a threshold\n",
    "\n",
    "The goal of task 10 is to find out which countries have the confirmed to population ratio less than 1%, it may indicate the risk of those countries are relatively low\n"
   ]
  },
  {
   "cell_type": "code",
   "execution_count": 23,
   "metadata": {
    "tags": []
   },
   "outputs": [
    {
     "data": {
      "text/html": [
       "<table>\n",
       "<caption>A data.frame: 6 × 7</caption>\n",
       "<thead>\n",
       "\t<tr><th></th><th scope=col>country</th><th scope=col>date</th><th scope=col>tested</th><th scope=col>confirmed</th><th scope=col>confirmed.tested.ratio</th><th scope=col>tested.population.ratio</th><th scope=col>confirmed.population.ratio</th></tr>\n",
       "\t<tr><th></th><th scope=col>&lt;chr&gt;</th><th scope=col>&lt;fct&gt;</th><th scope=col>&lt;dbl&gt;</th><th scope=col>&lt;int&gt;</th><th scope=col>&lt;dbl&gt;</th><th scope=col>&lt;dbl&gt;</th><th scope=col>&lt;dbl&gt;</th></tr>\n",
       "</thead>\n",
       "<tbody>\n",
       "\t<tr><th scope=row>1</th><td>Afghanistan        </td><td>17 Dec 2020</td><td> 154767</td><td>  49621</td><td>32.1</td><td> 0.40</td><td>0.130</td></tr>\n",
       "\t<tr><th scope=row>3</th><td>Algeria            </td><td>2 Nov 2020 </td><td> 230553</td><td>  58574</td><td>25.4</td><td> 0.53</td><td>0.130</td></tr>\n",
       "\t<tr><th scope=row>5</th><td>Angola             </td><td>2 Feb 2021 </td><td> 399228</td><td>  20981</td><td> 5.3</td><td> 1.30</td><td>0.067</td></tr>\n",
       "\t<tr><th scope=row>6</th><td>Antigua and Barbuda</td><td>6 Mar 2021 </td><td>  15268</td><td>    832</td><td> 5.4</td><td>15.90</td><td>0.860</td></tr>\n",
       "\t<tr><th scope=row>14</th><td>Bangladesh         </td><td>24 Jul 2021</td><td>7417714</td><td>1151644</td><td>15.5</td><td> 4.50</td><td>0.700</td></tr>\n",
       "\t<tr><th scope=row>19</th><td>Benin              </td><td>4 May 2021 </td><td> 595112</td><td>   7884</td><td> 1.3</td><td> 5.10</td><td>0.067</td></tr>\n",
       "</tbody>\n",
       "</table>\n"
      ],
      "text/latex": [
       "A data.frame: 6 × 7\n",
       "\\begin{tabular}{r|lllllll}\n",
       "  & country & date & tested & confirmed & confirmed.tested.ratio & tested.population.ratio & confirmed.population.ratio\\\\\n",
       "  & <chr> & <fct> & <dbl> & <int> & <dbl> & <dbl> & <dbl>\\\\\n",
       "\\hline\n",
       "\t1 & Afghanistan         & 17 Dec 2020 &  154767 &   49621 & 32.1 &  0.40 & 0.130\\\\\n",
       "\t3 & Algeria             & 2 Nov 2020  &  230553 &   58574 & 25.4 &  0.53 & 0.130\\\\\n",
       "\t5 & Angola              & 2 Feb 2021  &  399228 &   20981 &  5.3 &  1.30 & 0.067\\\\\n",
       "\t6 & Antigua and Barbuda & 6 Mar 2021  &   15268 &     832 &  5.4 & 15.90 & 0.860\\\\\n",
       "\t14 & Bangladesh          & 24 Jul 2021 & 7417714 & 1151644 & 15.5 &  4.50 & 0.700\\\\\n",
       "\t19 & Benin               & 4 May 2021  &  595112 &    7884 &  1.3 &  5.10 & 0.067\\\\\n",
       "\\end{tabular}\n"
      ],
      "text/markdown": [
       "\n",
       "A data.frame: 6 × 7\n",
       "\n",
       "| <!--/--> | country &lt;chr&gt; | date &lt;fct&gt; | tested &lt;dbl&gt; | confirmed &lt;int&gt; | confirmed.tested.ratio &lt;dbl&gt; | tested.population.ratio &lt;dbl&gt; | confirmed.population.ratio &lt;dbl&gt; |\n",
       "|---|---|---|---|---|---|---|---|\n",
       "| 1 | Afghanistan         | 17 Dec 2020 |  154767 |   49621 | 32.1 |  0.40 | 0.130 |\n",
       "| 3 | Algeria             | 2 Nov 2020  |  230553 |   58574 | 25.4 |  0.53 | 0.130 |\n",
       "| 5 | Angola              | 2 Feb 2021  |  399228 |   20981 |  5.3 |  1.30 | 0.067 |\n",
       "| 6 | Antigua and Barbuda | 6 Mar 2021  |   15268 |     832 |  5.4 | 15.90 | 0.860 |\n",
       "| 14 | Bangladesh          | 24 Jul 2021 | 7417714 | 1151644 | 15.5 |  4.50 | 0.700 |\n",
       "| 19 | Benin               | 4 May 2021  |  595112 |    7884 |  1.3 |  5.10 | 0.067 |\n",
       "\n"
      ],
      "text/plain": [
       "   country             date        tested  confirmed confirmed.tested.ratio\n",
       "1  Afghanistan         17 Dec 2020  154767   49621   32.1                  \n",
       "3  Algeria             2 Nov 2020   230553   58574   25.4                  \n",
       "5  Angola              2 Feb 2021   399228   20981    5.3                  \n",
       "6  Antigua and Barbuda 6 Mar 2021    15268     832    5.4                  \n",
       "14 Bangladesh          24 Jul 2021 7417714 1151644   15.5                  \n",
       "19 Benin               4 May 2021   595112    7884    1.3                  \n",
       "   tested.population.ratio confirmed.population.ratio\n",
       "1   0.40                   0.130                     \n",
       "3   0.53                   0.130                     \n",
       "5   1.30                   0.067                     \n",
       "6  15.90                   0.860                     \n",
       "14  4.50                   0.700                     \n",
       "19  5.10                   0.067                     "
      ]
     },
     "metadata": {},
     "output_type": "display_data"
    }
   ],
   "source": [
    "# Get a subset of any countries with `confirmed.population.ratio` less than the threshold\n",
    "new_df <- covid_data[(covid_data$`confirmed.population.ratio` <1), ]\n",
    "head(new_df)"
   ]
  },
  {
   "cell_type": "code",
   "execution_count": null,
   "metadata": {},
   "outputs": [],
   "source": []
  }
 ],
 "metadata": {
  "kernelspec": {
   "display_name": "R",
   "language": "R",
   "name": "conda-env-r-r"
  },
  "language_info": {
   "codemirror_mode": "r",
   "file_extension": ".r",
   "mimetype": "text/x-r-source",
   "name": "R",
   "pygments_lexer": "r",
   "version": "3.5.1"
  }
 },
 "nbformat": 4,
 "nbformat_minor": 4
}
